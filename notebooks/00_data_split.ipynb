{
 "cells": [
  {
   "cell_type": "code",
   "execution_count": 1,
   "id": "4c58b8de",
   "metadata": {},
   "outputs": [],
   "source": [
    "import pandas as pd"
   ]
  },
  {
   "cell_type": "code",
   "execution_count": 2,
   "id": "4ab62c3a",
   "metadata": {},
   "outputs": [],
   "source": [
    "df = pd.read_csv('/Users/riadanas/Desktop/housing regression MLE/data/raw/HouseTS.csv')"
   ]
  },
  {
   "cell_type": "code",
   "execution_count": 5,
   "id": "c7ff4bfb",
   "metadata": {},
   "outputs": [],
   "source": [
    "pd.set_option('display.max_columns', None)  # Show all columns\n",
    "pd.set_option('display.max_rows', None)     # Show all rows"
   ]
  },
  {
   "cell_type": "code",
   "execution_count": 6,
   "id": "2f0ca91b",
   "metadata": {},
   "outputs": [
    {
     "data": {
      "text/plain": [
       "(884092, 39)"
      ]
     },
     "execution_count": 6,
     "metadata": {},
     "output_type": "execute_result"
    }
   ],
   "source": [
    "df.shape"
   ]
  },
  {
   "cell_type": "code",
   "execution_count": 8,
   "id": "d4f1624a",
   "metadata": {},
   "outputs": [
    {
     "data": {
      "text/html": [
       "<div>\n",
       "<style scoped>\n",
       "    .dataframe tbody tr th:only-of-type {\n",
       "        vertical-align: middle;\n",
       "    }\n",
       "\n",
       "    .dataframe tbody tr th {\n",
       "        vertical-align: top;\n",
       "    }\n",
       "\n",
       "    .dataframe thead th {\n",
       "        text-align: right;\n",
       "    }\n",
       "</style>\n",
       "<table border=\"1\" class=\"dataframe\">\n",
       "  <thead>\n",
       "    <tr style=\"text-align: right;\">\n",
       "      <th></th>\n",
       "      <th>date</th>\n",
       "      <th>median_sale_price</th>\n",
       "      <th>median_list_price</th>\n",
       "      <th>median_ppsf</th>\n",
       "      <th>median_list_ppsf</th>\n",
       "      <th>homes_sold</th>\n",
       "      <th>pending_sales</th>\n",
       "      <th>new_listings</th>\n",
       "      <th>inventory</th>\n",
       "      <th>median_dom</th>\n",
       "      <th>avg_sale_to_list</th>\n",
       "      <th>sold_above_list</th>\n",
       "      <th>off_market_in_two_weeks</th>\n",
       "      <th>city</th>\n",
       "      <th>zipcode</th>\n",
       "      <th>year</th>\n",
       "      <th>bank</th>\n",
       "      <th>bus</th>\n",
       "      <th>hospital</th>\n",
       "      <th>mall</th>\n",
       "      <th>park</th>\n",
       "      <th>restaurant</th>\n",
       "      <th>school</th>\n",
       "      <th>station</th>\n",
       "      <th>supermarket</th>\n",
       "      <th>Total Population</th>\n",
       "      <th>Median Age</th>\n",
       "      <th>Per Capita Income</th>\n",
       "      <th>Total Families Below Poverty</th>\n",
       "      <th>Total Housing Units</th>\n",
       "      <th>Median Rent</th>\n",
       "      <th>Median Home Value</th>\n",
       "      <th>Total Labor Force</th>\n",
       "      <th>Unemployed Population</th>\n",
       "      <th>Total School Age Population</th>\n",
       "      <th>Total School Enrollment</th>\n",
       "      <th>Median Commute Time</th>\n",
       "      <th>price</th>\n",
       "      <th>city_full</th>\n",
       "    </tr>\n",
       "  </thead>\n",
       "  <tbody>\n",
       "    <tr>\n",
       "      <th>0</th>\n",
       "      <td>2012-03-31</td>\n",
       "      <td>46550.0</td>\n",
       "      <td>217450.0</td>\n",
       "      <td>31.813674</td>\n",
       "      <td>110.183666</td>\n",
       "      <td>14.0</td>\n",
       "      <td>23.0</td>\n",
       "      <td>44.0</td>\n",
       "      <td>64.0</td>\n",
       "      <td>59.5</td>\n",
       "      <td>0.943662</td>\n",
       "      <td>0.142857</td>\n",
       "      <td>0.043478</td>\n",
       "      <td>ATL</td>\n",
       "      <td>30002</td>\n",
       "      <td>2012</td>\n",
       "      <td>12.0</td>\n",
       "      <td>2.0</td>\n",
       "      <td>4.0</td>\n",
       "      <td>1.0</td>\n",
       "      <td>60.0</td>\n",
       "      <td>45.0</td>\n",
       "      <td>57.0</td>\n",
       "      <td>4.0</td>\n",
       "      <td>7.0</td>\n",
       "      <td>5811.0</td>\n",
       "      <td>36.3</td>\n",
       "      <td>33052.0</td>\n",
       "      <td>5811.0</td>\n",
       "      <td>2677.0</td>\n",
       "      <td>710.0</td>\n",
       "      <td>279500.0</td>\n",
       "      <td>3171.0</td>\n",
       "      <td>460.0</td>\n",
       "      <td>5408.0</td>\n",
       "      <td>5408.0</td>\n",
       "      <td>2492.0</td>\n",
       "      <td>200773.999557</td>\n",
       "      <td>Atlanta-Sandy Springs-Alpharetta</td>\n",
       "    </tr>\n",
       "    <tr>\n",
       "      <th>1</th>\n",
       "      <td>2012-04-30</td>\n",
       "      <td>61870.0</td>\n",
       "      <td>245000.0</td>\n",
       "      <td>40.723982</td>\n",
       "      <td>130.528256</td>\n",
       "      <td>22.0</td>\n",
       "      <td>29.0</td>\n",
       "      <td>56.0</td>\n",
       "      <td>69.0</td>\n",
       "      <td>89.5</td>\n",
       "      <td>0.946642</td>\n",
       "      <td>0.090909</td>\n",
       "      <td>0.034483</td>\n",
       "      <td>ATL</td>\n",
       "      <td>30002</td>\n",
       "      <td>2012</td>\n",
       "      <td>12.0</td>\n",
       "      <td>2.0</td>\n",
       "      <td>4.0</td>\n",
       "      <td>1.0</td>\n",
       "      <td>60.0</td>\n",
       "      <td>45.0</td>\n",
       "      <td>57.0</td>\n",
       "      <td>4.0</td>\n",
       "      <td>7.0</td>\n",
       "      <td>5811.0</td>\n",
       "      <td>36.3</td>\n",
       "      <td>33052.0</td>\n",
       "      <td>5811.0</td>\n",
       "      <td>2677.0</td>\n",
       "      <td>710.0</td>\n",
       "      <td>279500.0</td>\n",
       "      <td>3171.0</td>\n",
       "      <td>460.0</td>\n",
       "      <td>5408.0</td>\n",
       "      <td>5408.0</td>\n",
       "      <td>2492.0</td>\n",
       "      <td>202421.064584</td>\n",
       "      <td>Atlanta-Sandy Springs-Alpharetta</td>\n",
       "    </tr>\n",
       "  </tbody>\n",
       "</table>\n",
       "</div>"
      ],
      "text/plain": [
       "         date  median_sale_price  median_list_price  median_ppsf  \\\n",
       "0  2012-03-31            46550.0           217450.0    31.813674   \n",
       "1  2012-04-30            61870.0           245000.0    40.723982   \n",
       "\n",
       "   median_list_ppsf  homes_sold  pending_sales  new_listings  inventory  \\\n",
       "0        110.183666        14.0           23.0          44.0       64.0   \n",
       "1        130.528256        22.0           29.0          56.0       69.0   \n",
       "\n",
       "   median_dom  avg_sale_to_list  sold_above_list  off_market_in_two_weeks  \\\n",
       "0        59.5          0.943662         0.142857                 0.043478   \n",
       "1        89.5          0.946642         0.090909                 0.034483   \n",
       "\n",
       "  city  zipcode  year  bank  bus  hospital  mall  park  restaurant  school  \\\n",
       "0  ATL    30002  2012  12.0  2.0       4.0   1.0  60.0        45.0    57.0   \n",
       "1  ATL    30002  2012  12.0  2.0       4.0   1.0  60.0        45.0    57.0   \n",
       "\n",
       "   station  supermarket  Total Population  Median Age  Per Capita Income  \\\n",
       "0      4.0          7.0            5811.0        36.3            33052.0   \n",
       "1      4.0          7.0            5811.0        36.3            33052.0   \n",
       "\n",
       "   Total Families Below Poverty  Total Housing Units  Median Rent  \\\n",
       "0                        5811.0               2677.0        710.0   \n",
       "1                        5811.0               2677.0        710.0   \n",
       "\n",
       "   Median Home Value  Total Labor Force  Unemployed Population  \\\n",
       "0           279500.0             3171.0                  460.0   \n",
       "1           279500.0             3171.0                  460.0   \n",
       "\n",
       "   Total School Age Population  Total School Enrollment  Median Commute Time  \\\n",
       "0                       5408.0                   5408.0               2492.0   \n",
       "1                       5408.0                   5408.0               2492.0   \n",
       "\n",
       "           price                         city_full  \n",
       "0  200773.999557  Atlanta-Sandy Springs-Alpharetta  \n",
       "1  202421.064584  Atlanta-Sandy Springs-Alpharetta  "
      ]
     },
     "execution_count": 8,
     "metadata": {},
     "output_type": "execute_result"
    }
   ],
   "source": [
    "df.head(2)"
   ]
  },
  {
   "cell_type": "code",
   "execution_count": 9,
   "id": "da3f4305",
   "metadata": {},
   "outputs": [],
   "source": [
    "from sklearn.model_selection import train_test_split\n",
    "\n",
    "train_df, holdout_df = train_test_split(\n",
    "    df, test_size=0.1, random_state=42\n",
    ")"
   ]
  },
  {
   "cell_type": "code",
   "execution_count": 10,
   "id": "62ec534b",
   "metadata": {},
   "outputs": [
    {
     "name": "stdout",
     "output_type": "stream",
     "text": [
      "(795682, 39)\n",
      "(88410, 39)\n"
     ]
    }
   ],
   "source": [
    "print(train_df.shape)\n",
    "print(holdout_df.shape)"
   ]
  },
  {
   "cell_type": "code",
   "execution_count": 11,
   "id": "b7ce6b4e",
   "metadata": {},
   "outputs": [],
   "source": [
    "train_df.to_csv(\"data/raw/train.csv\", index=False)\n",
    "holdout_df.to_csv(\"data/raw/holdout.csv\", index=False)"
   ]
  },
  {
   "cell_type": "code",
   "execution_count": null,
   "id": "987ec4f9",
   "metadata": {},
   "outputs": [],
   "source": []
  }
 ],
 "metadata": {
  "kernelspec": {
   "display_name": "housing-regression-mle",
   "language": "python",
   "name": "python3"
  },
  "language_info": {
   "codemirror_mode": {
    "name": "ipython",
    "version": 3
   },
   "file_extension": ".py",
   "mimetype": "text/x-python",
   "name": "python",
   "nbconvert_exporter": "python",
   "pygments_lexer": "ipython3",
   "version": "3.11.12"
  }
 },
 "nbformat": 4,
 "nbformat_minor": 5
}
