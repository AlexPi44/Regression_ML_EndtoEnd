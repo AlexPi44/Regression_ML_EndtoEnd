{
 "cells": [
  {
   "cell_type": "markdown",
   "id": "1448827f",
   "metadata": {},
   "source": [
    "## Data Exploration / Cleaning"
   ]
  },
  {
   "cell_type": "code",
   "execution_count": 21,
   "id": "2d245429",
   "metadata": {},
   "outputs": [],
   "source": [
    "import pandas as pd\n",
    "\n",
    "# ============================\n",
    "# 1. Load datasets\n",
    "# ============================\n",
    "train_df = pd.read_csv(\"/Users/riadanas/Desktop/housing regression MLE/data/raw/train.csv\")\n",
    "eval_df = pd.read_csv(\"/Users/riadanas/Desktop/housing regression MLE/data/raw/eval.csv\")\n",
    "metros = pd.read_csv(\"/Users/riadanas/Desktop/housing regression MLE/data/raw/usmetros.csv\")\n",
    "\n",
    "pd.set_option('display.max_columns', None)  # Show all columns\n",
    "pd.set_option('display.max_rows', None)     # Show all rows"
   ]
  },
  {
   "cell_type": "code",
   "execution_count": 22,
   "id": "ca47ee61",
   "metadata": {},
   "outputs": [
    {
     "name": "stdout",
     "output_type": "stream",
     "text": [
      "(585244, 39)\n",
      "(149424, 39)\n"
     ]
    }
   ],
   "source": [
    "print(train_df.shape)\n",
    "print(eval_df.shape)"
   ]
  },
  {
   "cell_type": "code",
   "execution_count": 23,
   "id": "e6479c68",
   "metadata": {},
   "outputs": [
    {
     "data": {
      "text/plain": [
       "city_full\n",
       "New York-Newark-Jersey City       78020\n",
       "Chicago-Naperville-Elgin          35344\n",
       "Los Angeles-Long Beach-Anaheim    33840\n",
       "Philadelphia-Camden-Wilmington    31396\n",
       "DC_Metro                          29516\n",
       "Name: count, dtype: int64"
      ]
     },
     "execution_count": 23,
     "metadata": {},
     "output_type": "execute_result"
    }
   ],
   "source": [
    "train_df['city_full'].value_counts().head()"
   ]
  },
  {
   "cell_type": "markdown",
   "id": "1f422530",
   "metadata": {},
   "source": [
    "### Map cities to Lat/Long\n",
    "- The goal is to use Lattitude and longitude instead of cities for our ML models"
   ]
  },
  {
   "cell_type": "code",
   "execution_count": 24,
   "id": "030ae9b2",
   "metadata": {},
   "outputs": [],
   "source": [
    "# ============================\n",
    "# 2. Fix city name mismatches\n",
    "# ============================\n",
    "city_mapping = {\n",
    "    'Las Vegas-Henderson-Paradise': 'Las Vegas-Henderson-North Las Vegas',\n",
    "    'Denver-Aurora-Lakewood': 'Denver-Aurora-Centennial',\n",
    "    'Houston-The Woodlands-Sugar Land': 'Houston-Pasadena-The Woodlands',\n",
    "    'Austin-Round Rock-Georgetown': 'Austin-Round Rock-San Marcos',\n",
    "    'Miami-Fort Lauderdale-Pompano Beach': 'Miami-Fort Lauderdale-West Palm Beach',\n",
    "    'San Francisco-Oakland-Berkeley': 'San Francisco-Oakland-Fremont',\n",
    "    'DC_Metro': 'Washington-Arlington-Alexandria',\n",
    "    'Atlanta-Sandy Springs-Alpharetta': 'Atlanta-Sandy Springs-Roswell'\n",
    "}"
   ]
  },
  {
   "cell_type": "code",
   "execution_count": 25,
   "id": "34c6984c",
   "metadata": {},
   "outputs": [],
   "source": [
    "def clean_and_merge(df: pd.DataFrame) -> pd.DataFrame:\n",
    "    \"\"\"Apply city name fixes, merge lat/lng from metros, drop dup col.\"\"\"\n",
    "    df[\"city_full\"] = df[\"city_full\"].replace(city_mapping)\n",
    "    \n",
    "    df = df.merge(\n",
    "        metros[[\"metro_full\", \"lat\", \"lng\"]],\n",
    "        how=\"left\",\n",
    "        left_on=\"city_full\",\n",
    "        right_on=\"metro_full\"\n",
    "    )\n",
    "    df.drop(columns=[\"metro_full\"], inplace=True)\n",
    "\n",
    "    # Log any cities that still didn’t match\n",
    "    missing = df[df[\"lat\"].isnull()][\"city_full\"].unique()\n",
    "    if len(missing) > 0:\n",
    "        print(\"⚠️ Still missing lat/lng for:\", missing)\n",
    "    else:\n",
    "        print(\"✅ All cities matched with metros dataset.\")\n",
    "\n",
    "    return df\n"
   ]
  },
  {
   "cell_type": "code",
   "execution_count": 26,
   "id": "478e4fc2",
   "metadata": {},
   "outputs": [
    {
     "name": "stdout",
     "output_type": "stream",
     "text": [
      "✅ All cities matched with metros dataset.\n",
      "✅ All cities matched with metros dataset.\n"
     ]
    }
   ],
   "source": [
    "# ============================\n",
    "# 3. Apply cleaning + merge to both train and eval\n",
    "# ============================\n",
    "train_df = clean_and_merge(train_df)\n",
    "eval_df = clean_and_merge(eval_df)"
   ]
  },
  {
   "cell_type": "code",
   "execution_count": 27,
   "id": "0f55c4f8",
   "metadata": {},
   "outputs": [
    {
     "name": "stdout",
     "output_type": "stream",
     "text": [
      "(585244, 41)\n",
      "(149424, 41)\n"
     ]
    }
   ],
   "source": [
    "print(train_df.shape)\n",
    "print(eval_df.shape)"
   ]
  },
  {
   "cell_type": "code",
   "execution_count": 28,
   "id": "63468c98",
   "metadata": {},
   "outputs": [
    {
     "data": {
      "text/html": [
       "<div>\n",
       "<style scoped>\n",
       "    .dataframe tbody tr th:only-of-type {\n",
       "        vertical-align: middle;\n",
       "    }\n",
       "\n",
       "    .dataframe tbody tr th {\n",
       "        vertical-align: top;\n",
       "    }\n",
       "\n",
       "    .dataframe thead th {\n",
       "        text-align: right;\n",
       "    }\n",
       "</style>\n",
       "<table border=\"1\" class=\"dataframe\">\n",
       "  <thead>\n",
       "    <tr style=\"text-align: right;\">\n",
       "      <th></th>\n",
       "      <th>date</th>\n",
       "      <th>median_sale_price</th>\n",
       "      <th>median_list_price</th>\n",
       "      <th>median_ppsf</th>\n",
       "      <th>median_list_ppsf</th>\n",
       "      <th>homes_sold</th>\n",
       "      <th>pending_sales</th>\n",
       "      <th>new_listings</th>\n",
       "      <th>inventory</th>\n",
       "      <th>median_dom</th>\n",
       "      <th>avg_sale_to_list</th>\n",
       "      <th>sold_above_list</th>\n",
       "      <th>off_market_in_two_weeks</th>\n",
       "      <th>city</th>\n",
       "      <th>zipcode</th>\n",
       "      <th>year</th>\n",
       "      <th>bank</th>\n",
       "      <th>bus</th>\n",
       "      <th>hospital</th>\n",
       "      <th>mall</th>\n",
       "      <th>park</th>\n",
       "      <th>restaurant</th>\n",
       "      <th>school</th>\n",
       "      <th>station</th>\n",
       "      <th>supermarket</th>\n",
       "      <th>Total Population</th>\n",
       "      <th>Median Age</th>\n",
       "      <th>Per Capita Income</th>\n",
       "      <th>Total Families Below Poverty</th>\n",
       "      <th>Total Housing Units</th>\n",
       "      <th>Median Rent</th>\n",
       "      <th>Median Home Value</th>\n",
       "      <th>Total Labor Force</th>\n",
       "      <th>Unemployed Population</th>\n",
       "      <th>Total School Age Population</th>\n",
       "      <th>Total School Enrollment</th>\n",
       "      <th>Median Commute Time</th>\n",
       "      <th>price</th>\n",
       "      <th>city_full</th>\n",
       "      <th>lat</th>\n",
       "      <th>lng</th>\n",
       "    </tr>\n",
       "  </thead>\n",
       "  <tbody>\n",
       "    <tr>\n",
       "      <th>0</th>\n",
       "      <td>2012-03-31</td>\n",
       "      <td>46550.0</td>\n",
       "      <td>217450.0</td>\n",
       "      <td>31.813674</td>\n",
       "      <td>110.183666</td>\n",
       "      <td>14.0</td>\n",
       "      <td>23.0</td>\n",
       "      <td>44.0</td>\n",
       "      <td>64.0</td>\n",
       "      <td>59.5</td>\n",
       "      <td>0.943662</td>\n",
       "      <td>0.142857</td>\n",
       "      <td>0.043478</td>\n",
       "      <td>ATL</td>\n",
       "      <td>30002</td>\n",
       "      <td>2012</td>\n",
       "      <td>12.0</td>\n",
       "      <td>2.0</td>\n",
       "      <td>4.0</td>\n",
       "      <td>1.0</td>\n",
       "      <td>60.0</td>\n",
       "      <td>45.0</td>\n",
       "      <td>57.0</td>\n",
       "      <td>4.0</td>\n",
       "      <td>7.0</td>\n",
       "      <td>5811.0</td>\n",
       "      <td>36.3</td>\n",
       "      <td>33052.0</td>\n",
       "      <td>5811.0</td>\n",
       "      <td>2677.0</td>\n",
       "      <td>710.0</td>\n",
       "      <td>279500.0</td>\n",
       "      <td>3171.0</td>\n",
       "      <td>460.0</td>\n",
       "      <td>5408.0</td>\n",
       "      <td>5408.0</td>\n",
       "      <td>2492.0</td>\n",
       "      <td>200773.999557</td>\n",
       "      <td>Atlanta-Sandy Springs-Roswell</td>\n",
       "      <td>33.7338</td>\n",
       "      <td>-84.3922</td>\n",
       "    </tr>\n",
       "  </tbody>\n",
       "</table>\n",
       "</div>"
      ],
      "text/plain": [
       "         date  median_sale_price  median_list_price  median_ppsf  \\\n",
       "0  2012-03-31            46550.0           217450.0    31.813674   \n",
       "\n",
       "   median_list_ppsf  homes_sold  pending_sales  new_listings  inventory  \\\n",
       "0        110.183666        14.0           23.0          44.0       64.0   \n",
       "\n",
       "   median_dom  avg_sale_to_list  sold_above_list  off_market_in_two_weeks  \\\n",
       "0        59.5          0.943662         0.142857                 0.043478   \n",
       "\n",
       "  city  zipcode  year  bank  bus  hospital  mall  park  restaurant  school  \\\n",
       "0  ATL    30002  2012  12.0  2.0       4.0   1.0  60.0        45.0    57.0   \n",
       "\n",
       "   station  supermarket  Total Population  Median Age  Per Capita Income  \\\n",
       "0      4.0          7.0            5811.0        36.3            33052.0   \n",
       "\n",
       "   Total Families Below Poverty  Total Housing Units  Median Rent  \\\n",
       "0                        5811.0               2677.0        710.0   \n",
       "\n",
       "   Median Home Value  Total Labor Force  Unemployed Population  \\\n",
       "0           279500.0             3171.0                  460.0   \n",
       "\n",
       "   Total School Age Population  Total School Enrollment  Median Commute Time  \\\n",
       "0                       5408.0                   5408.0               2492.0   \n",
       "\n",
       "           price                      city_full      lat      lng  \n",
       "0  200773.999557  Atlanta-Sandy Springs-Roswell  33.7338 -84.3922  "
      ]
     },
     "execution_count": 28,
     "metadata": {},
     "output_type": "execute_result"
    }
   ],
   "source": [
    "train_df.head(1)"
   ]
  },
  {
   "cell_type": "code",
   "execution_count": 29,
   "id": "600d1005",
   "metadata": {},
   "outputs": [
    {
     "name": "stdout",
     "output_type": "stream",
     "text": [
      "✅ Cleaning complete.\n"
     ]
    }
   ],
   "source": [
    "# ============================\n",
    "# 4. Save cleaned datasets\n",
    "# ============================\n",
    "train_df.to_csv(\"/Users/riadanas/Desktop/housing regression MLE/data/processed/cleaning_train.csv\", index=False)\n",
    "eval_df.to_csv(\"/Users/riadanas/Desktop/housing regression MLE/data/processed/cleaning_eval.csv\", index=False)\n",
    "\n",
    "print(\"✅ Cleaning complete.\")"
   ]
  },
  {
   "cell_type": "markdown",
   "id": "09b4d8be",
   "metadata": {},
   "source": [
    "## Housing prices exploration"
   ]
  },
  {
   "cell_type": "code",
   "execution_count": 30,
   "id": "97c4968d",
   "metadata": {},
   "outputs": [],
   "source": [
    "df = train_df"
   ]
  },
  {
   "cell_type": "code",
   "execution_count": 31,
   "id": "5cc36f4f",
   "metadata": {},
   "outputs": [
    {
     "name": "stderr",
     "output_type": "stream",
     "text": [
      "/var/folders/1h/14p077t95lbcy6x5tc6bqx3h0000gn/T/ipykernel_91146/1748330476.py:31: FutureWarning: \n",
      "\n",
      "Passing `palette` without assigning `hue` is deprecated and will be removed in v0.14.0. Assign the `x` variable to `hue` and set `legend=False` for the same effect.\n",
      "\n",
      "  sns.boxplot(\n"
     ]
    },
    {
     "data": {
      "image/png": "[encoded data removed]",
      "text/plain": [
       "<Figure size 1400x600 with 1 Axes>"
      ]
     },
     "metadata": {},
     "output_type": "display_data"
    }
   ],
   "source": [
    "import seaborn as sns\n",
    "import matplotlib.pyplot as plt\n",
    "import colorsys\n",
    "sns.set_theme(style=\"whitegrid\")           \n",
    "\n",
    "# Boxplot of house prices for the cities, ordered by median price.\n",
    "\n",
    "top_cities = df[\"city\"].value_counts().head(30).index.tolist()\n",
    "df_city    = df[df[\"city\"].isin(top_cities)]\n",
    "city_order = (\n",
    "    df_city.groupby(\"city\")[\"price\"]\n",
    "           .median()\n",
    "           .sort_values(ascending=False)\n",
    "           .index\n",
    ")\n",
    "\n",
    "base = sns.color_palette(\"rocket_r\", len(city_order))\n",
    "\n",
    "def lighten(color, amt=.4):\n",
    "    h, l, s = colorsys.rgb_to_hls(*color)\n",
    "    return colorsys.hls_to_rgb(h, min(1, l + amt*(1-l)), s)\n",
    "\n",
    "palette = [\n",
    "    lighten(c, .45) if i >= len(base) - 8 else c\n",
    "    for i, c in enumerate(base)\n",
    "]\n",
    "\n",
    "sns.set_theme(style=\"ticks\")\n",
    "fig, ax = plt.subplots(figsize=(14, 6))\n",
    "\n",
    "sns.boxplot(\n",
    "    x=\"city\", y=\"price\", data=df_city,\n",
    "    order=city_order, palette=palette,\n",
    "    showfliers=False, linewidth=1.2, ax=ax\n",
    ")\n",
    "\n",
    "medians = df_city.groupby(\"city\")[\"price\"].median().loc[city_order]\n",
    "for tick, median in enumerate(medians):\n",
    "    ax.scatter(tick, median, color=\"white\", edgecolor=\"black\", zorder=5, s=40)\n",
    "\n",
    "ax.set_xlabel(\"\")\n",
    "ax.set_ylabel(\"Price ($)\")\n",
    "ax.tick_params(axis=\"x\", rotation=55)\n",
    "sns.despine(trim=True)\n",
    "ax.grid(False)\n",
    "ax.ticklabel_format(axis=\"y\", style=\"plain\")"
   ]
  },
  {
   "cell_type": "code",
   "execution_count": 32,
   "id": "1eaa138d",
   "metadata": {},
   "outputs": [
    {
     "data": {
      "image/png": "[encoded data removed]",
      "text/plain": [
       "<Figure size 800x600 with 1 Axes>"
      ]
     },
     "metadata": {},
     "output_type": "display_data"
    }
   ],
   "source": [
    "# Distribution of house prices across the dataset \n",
    "\n",
    "sns.set_theme(style=\"ticks\")\n",
    "fig, ax = plt.subplots(figsize=(8, 6))\n",
    "sns.histplot(df[\"price\"].dropna(), bins=60, kde=True, color=sns.color_palette(\"rocket_r\", 1)[0], ax=ax)\n",
    "median_price = df[\"price\"].median()\n",
    "ax.axvline(median_price, ls=\"--\", lw=1.2, color=\"black\")\n",
    "ax.set_xlabel(\"Price ($)\")\n",
    "ax.set_ylabel(\"Count\")\n",
    "sns.despine(trim=True)\n",
    "ax.grid(False)\n",
    "ax.ticklabel_format(axis=\"x\", style=\"plain\")\n",
    "plt.show()"
   ]
  },
  {
   "cell_type": "code",
   "execution_count": null,
   "id": "2ffdbdd5",
   "metadata": {},
   "outputs": [],
   "source": []
  }
 ],
 "metadata": {
  "kernelspec": {
   "display_name": "housing-regression-mle",
   "language": "python",
   "name": "python3"
  },
  "language_info": {
   "codemirror_mode": {
    "name": "ipython",
    "version": 3
   },
   "file_extension": ".py",
   "mimetype": "text/x-python",
   "name": "python",
   "nbconvert_exporter": "python",
   "pygments_lexer": "ipython3",
   "version": "3.11.12"
  }
 },
 "nbformat": 4,
 "nbformat_minor": 5
}
