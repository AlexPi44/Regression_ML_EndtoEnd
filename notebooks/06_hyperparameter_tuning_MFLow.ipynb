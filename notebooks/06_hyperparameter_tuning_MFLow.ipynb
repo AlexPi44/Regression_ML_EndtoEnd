{
 "cells": [
  {
   "cell_type": "code",
   "execution_count": 1,
   "id": "dae76107",
   "metadata": {},
   "outputs": [
    {
     "name": "stderr",
     "output_type": "stream",
     "text": [
      "/Users/riadanas/Desktop/housing regression MLE/.venv/lib/python3.11/site-packages/tqdm/auto.py:21: TqdmWarning: IProgress not found. Please update jupyter and ipywidgets. See https://ipywidgets.readthedocs.io/en/stable/user_install.html\n",
      "  from .autonotebook import tqdm as notebook_tqdm\n"
     ]
    }
   ],
   "source": [
    "# ================================================\n",
    "# 1. Imports\n",
    "# ================================================\n",
    "import pandas as pd\n",
    "import numpy as np\n",
    "from sklearn.model_selection import train_test_split\n",
    "from sklearn.metrics import mean_absolute_error, mean_squared_error, r2_score\n",
    "from xgboost import XGBRegressor\n",
    "import optuna\n",
    "import mlflow\n",
    "import mlflow.xgboost   # integration for XGBoost models"
   ]
  },
  {
   "cell_type": "code",
   "execution_count": 2,
   "id": "0d0f8643",
   "metadata": {},
   "outputs": [
    {
     "name": "stdout",
     "output_type": "stream",
     "text": [
      "Train shape: (636545, 40)\n",
      "Validation shape: (159137, 40)\n"
     ]
    }
   ],
   "source": [
    "# ================================================\n",
    "# 2. Load processed dataset\n",
    "# ================================================\n",
    "df = pd.read_csv(\"/Users/riadanas/Desktop/housing regression MLE/data/processed/feature_engineered.csv\")\n",
    "\n",
    "target = \"price\"\n",
    "X = df.drop(columns=[target])\n",
    "y = df[target]\n",
    "\n",
    "# Train/validation split\n",
    "X_train, X_val, y_train, y_val = train_test_split(\n",
    "    X, y, test_size=0.2, random_state=42\n",
    ")\n",
    "\n",
    "print(\"Train shape:\", X_train.shape)\n",
    "print(\"Validation shape:\", X_val.shape)\n"
   ]
  },
  {
   "cell_type": "code",
   "execution_count": 3,
   "id": "4d6258cf",
   "metadata": {},
   "outputs": [],
   "source": [
    "# ================================================\n",
    "# 3. Define Optuna objective function with MLflow\n",
    "# ================================================\n",
    "def objective(trial):\n",
    "    # Define hyperparameter search space\n",
    "    params = {\n",
    "        \"n_estimators\": trial.suggest_int(\"n_estimators\", 200, 1000),\n",
    "        \"max_depth\": trial.suggest_int(\"max_depth\", 3, 10),\n",
    "        \"learning_rate\": trial.suggest_float(\"learning_rate\", 0.01, 0.3, log=True),\n",
    "        \"subsample\": trial.suggest_float(\"subsample\", 0.5, 1.0),\n",
    "        \"colsample_bytree\": trial.suggest_float(\"colsample_bytree\", 0.5, 1.0),\n",
    "        \"min_child_weight\": trial.suggest_int(\"min_child_weight\", 1, 10),\n",
    "        \"gamma\": trial.suggest_float(\"gamma\", 0.0, 5.0),\n",
    "        \"reg_alpha\": trial.suggest_float(\"reg_alpha\", 1e-8, 10.0, log=True),\n",
    "        \"reg_lambda\": trial.suggest_float(\"reg_lambda\", 1e-8, 10.0, log=True),\n",
    "        \"random_state\": 42,\n",
    "        \"n_jobs\": -1,\n",
    "        \"tree_method\": \"hist\",\n",
    "    }\n",
    "\n",
    "    # Start an MLflow run for each Optuna trial\n",
    "    with mlflow.start_run(nested=True):\n",
    "        model = XGBRegressor(**params)\n",
    "        model.fit(X_train, y_train)\n",
    "\n",
    "        # Evaluate on validation set\n",
    "        y_pred = model.predict(X_val)\n",
    "        rmse = float(np.sqrt(mean_squared_error(y_val, y_pred)))\n",
    "        mae = float(mean_absolute_error(y_val, y_pred))\n",
    "        r2 = float(r2_score(y_val, y_pred))\n",
    "\n",
    "        # Log hyperparameters and metrics to MLflow\n",
    "        mlflow.log_params(params)\n",
    "        mlflow.log_metrics({\"rmse\": rmse, \"mae\": mae, \"r2\": r2})\n",
    "\n",
    "    # Optuna will minimize RMSE\n",
    "    return rmse\n"
   ]
  },
  {
   "cell_type": "code",
   "execution_count": 4,
   "id": "89cf7200",
   "metadata": {},
   "outputs": [
    {
     "name": "stdout",
     "output_type": "stream",
     "text": [
      "3.0.4\n"
     ]
    }
   ],
   "source": [
    "import xgboost as xgb\n",
    "print(xgb.__version__)"
   ]
  },
  {
   "cell_type": "code",
   "execution_count": 5,
   "id": "260096cb",
   "metadata": {},
   "outputs": [
    {
     "name": "stdout",
     "output_type": "stream",
     "text": [
      "/Users/riadanas/Desktop/housing regression MLE/.venv/bin/python\n",
      "3.0.4\n",
      "/Users/riadanas/Desktop/housing regression MLE/.venv/lib/python3.11/site-packages/xgboost/__init__.py\n"
     ]
    }
   ],
   "source": [
    "import sys, xgboost as xgb\n",
    "print(sys.executable)        # should point to .../.venv/bin/python\n",
    "print(xgb.__version__)       # should print 3.0.4\n",
    "print(xgb.__file__)          # should live under .../.venv/..."
   ]
  },
  {
   "cell_type": "code",
   "execution_count": 6,
   "id": "8cf63bc4",
   "metadata": {},
   "outputs": [],
   "source": [
    "import mlflow\n",
    "\n",
    "# Force MLflow to use the project root `mlruns/`\n",
    "mlflow.set_tracking_uri(\"/Users/riadanas/Desktop/housing regression MLE/mlruns\")"
   ]
  },
  {
   "cell_type": "code",
   "execution_count": 7,
   "id": "44908915",
   "metadata": {},
   "outputs": [
    {
     "name": "stderr",
     "output_type": "stream",
     "text": [
      "2025/08/28 14:40:38 INFO mlflow.tracking.fluent: Experiment with name 'xgboost_optuna_housing' does not exist. Creating a new experiment.\n",
      "[I 2025-08-28 14:40:38,866] A new study created in memory with name: no-name-e26f9678-73ed-4b7e-8888-5c70926ea28d\n",
      "[I 2025-08-28 14:40:43,519] Trial 0 finished with value: 66487.89317464223 and parameters: {'n_estimators': 676, 'max_depth': 3, 'learning_rate': 0.03339766810381413, 'subsample': 0.7700772911140027, 'colsample_bytree': 0.5439845498792244, 'min_child_weight': 3, 'gamma': 0.6763301172324143, 'reg_alpha': 3.209479007176088e-08, 'reg_lambda': 0.05908151331846091}. Best is trial 0 with value: 66487.89317464223.\n",
      "[I 2025-08-28 14:40:50,207] Trial 1 finished with value: 47229.76572771624 and parameters: {'n_estimators': 458, 'max_depth': 7, 'learning_rate': 0.013237137144772705, 'subsample': 0.5976690582905835, 'colsample_bytree': 0.5354236695225968, 'min_child_weight': 1, 'gamma': 3.7343728102443348, 'reg_alpha': 0.1378051674112472, 'reg_lambda': 0.00017138174676843774}. Best is trial 1 with value: 47229.76572771624.\n",
      "[I 2025-08-28 14:40:56,546] Trial 2 finished with value: 54660.619648887696 and parameters: {'n_estimators': 795, 'max_depth': 4, 'learning_rate': 0.027389316796249216, 'subsample': 0.6024893369907596, 'colsample_bytree': 0.7096921399384915, 'min_child_weight': 9, 'gamma': 2.465333905705442, 'reg_alpha': 3.4006047396180306e-07, 'reg_lambda': 1.1473642108506364e-08}. Best is trial 1 with value: 47229.76572771624.\n",
      "[I 2025-08-28 14:40:59,000] Trial 3 finished with value: 70966.32679967748 and parameters: {'n_estimators': 350, 'max_depth': 3, 'learning_rate': 0.04890936012413289, 'subsample': 0.9668632451043528, 'colsample_bytree': 0.9289633984000436, 'min_child_weight': 10, 'gamma': 3.6633823210667527, 'reg_alpha': 5.9160543861693896e-08, 'reg_lambda': 0.000343351394788277}. Best is trial 1 with value: 47229.76572771624.\n",
      "[I 2025-08-28 14:41:20,379] Trial 4 finished with value: 21174.499296277398 and parameters: {'n_estimators': 880, 'max_depth': 10, 'learning_rate': 0.1283324496463296, 'subsample': 0.9115651237922455, 'colsample_bytree': 0.8454149172445589, 'min_child_weight': 6, 'gamma': 4.685388691410958, 'reg_alpha': 1.2779388365939806e-07, 'reg_lambda': 0.008419677000919142}. Best is trial 4 with value: 21174.499296277398.\n",
      "[I 2025-08-28 14:41:22,945] Trial 5 finished with value: 59461.7588555004 and parameters: {'n_estimators': 361, 'max_depth': 3, 'learning_rate': 0.1152965528503761, 'subsample': 0.9954081045065357, 'colsample_bytree': 0.9215963955359351, 'min_child_weight': 6, 'gamma': 4.962591006795565, 'reg_alpha': 0.011520526483300009, 'reg_lambda': 4.120434517978208e-07}. Best is trial 4 with value: 21174.499296277398.\n",
      "[I 2025-08-28 14:41:32,654] Trial 6 finished with value: 48418.45752196954 and parameters: {'n_estimators': 875, 'max_depth': 6, 'learning_rate': 0.011151406889801941, 'subsample': 0.7515916953038506, 'colsample_bytree': 0.6935138262010949, 'min_child_weight': 7, 'gamma': 4.811621869414789, 'reg_alpha': 0.002954458572403128, 'reg_lambda': 2.7347051597558634e-05}. Best is trial 4 with value: 21174.499296277398.\n",
      "[I 2025-08-28 14:41:46,132] Trial 7 finished with value: 21502.270410215217 and parameters: {'n_estimators': 760, 'max_depth': 9, 'learning_rate': 0.17160992436816025, 'subsample': 0.6532650034169922, 'colsample_bytree': 0.8486593788588008, 'min_child_weight': 7, 'gamma': 0.7993914300083044, 'reg_alpha': 7.291563440101836e-08, 'reg_lambda': 0.785887712859555}. Best is trial 4 with value: 21174.499296277398.\n",
      "[I 2025-08-28 14:41:53,427] Trial 8 finished with value: 48047.80747093183 and parameters: {'n_estimators': 665, 'max_depth': 6, 'learning_rate': 0.01521614909328634, 'subsample': 0.9332898706370363, 'colsample_bytree': 0.7095236433741516, 'min_child_weight': 5, 'gamma': 4.722881279220887, 'reg_alpha': 6.095325000895959e-07, 'reg_lambda': 6.293585598984832e-05}. Best is trial 4 with value: 21174.499296277398.\n",
      "[I 2025-08-28 14:41:59,434] Trial 9 finished with value: 57667.80266876431 and parameters: {'n_estimators': 924, 'max_depth': 3, 'learning_rate': 0.046146023923951396, 'subsample': 0.6668734899567683, 'colsample_bytree': 0.567017011711807, 'min_child_weight': 9, 'gamma': 4.3860871750338974, 'reg_alpha': 1.9267142896647833, 'reg_lambda': 0.003556089327177603}. Best is trial 4 with value: 21174.499296277398.\n",
      "[I 2025-08-28 14:42:04,205] Trial 10 finished with value: 24826.10359089588 and parameters: {'n_estimators': 203, 'max_depth': 10, 'learning_rate': 0.29266860872785255, 'subsample': 0.8713811094418635, 'colsample_bytree': 0.8007453302313872, 'min_child_weight': 4, 'gamma': 2.234574173663485, 'reg_alpha': 3.351403134048843e-05, 'reg_lambda': 9.107896895629066}. Best is trial 4 with value: 21174.499296277398.\n",
      "[I 2025-08-28 14:42:24,622] Trial 11 finished with value: 20741.994301699233 and parameters: {'n_estimators': 976, 'max_depth': 10, 'learning_rate': 0.1310044074276173, 'subsample': 0.5214946511323292, 'colsample_bytree': 0.7993912362377076, 'min_child_weight': 7, 'gamma': 0.2394571426076625, 'reg_alpha': 1.1398496336490957e-05, 'reg_lambda': 1.8760583491336693}. Best is trial 11 with value: 20741.994301699233.\n",
      "[I 2025-08-28 14:42:41,305] Trial 12 finished with value: 21305.2186987936 and parameters: {'n_estimators': 980, 'max_depth': 9, 'learning_rate': 0.07828876792139187, 'subsample': 0.5109013389671955, 'colsample_bytree': 0.8430910029582572, 'min_child_weight': 7, 'gamma': 0.010508349295344388, 'reg_alpha': 1.0383387173260507e-05, 'reg_lambda': 0.050042786414718175}. Best is trial 11 with value: 20741.994301699233.\n",
      "[I 2025-08-28 14:43:03,832] Trial 13 finished with value: 20859.401367435374 and parameters: {'n_estimators': 993, 'max_depth': 10, 'learning_rate': 0.1531834194682092, 'subsample': 0.8542821650630841, 'colsample_bytree': 0.8026333042384525, 'min_child_weight': 5, 'gamma': 1.574790438035218, 'reg_alpha': 7.324008173117849e-06, 'reg_lambda': 0.21027366454642235}. Best is trial 11 with value: 20741.994301699233.\n",
      "[I 2025-08-28 14:43:11,647] Trial 14 finished with value: 23103.047130514507 and parameters: {'n_estimators': 524, 'max_depth': 8, 'learning_rate': 0.24858593266490725, 'subsample': 0.8259891435662813, 'colsample_bytree': 0.9996150977119107, 'min_child_weight': 3, 'gamma': 1.5734664472210653, 'reg_alpha': 3.327547413785331e-05, 'reg_lambda': 9.78225283270589}. Best is trial 11 with value: 20741.994301699233.\n"
     ]
    },
    {
     "name": "stdout",
     "output_type": "stream",
     "text": [
      "Best params: {'n_estimators': 976, 'max_depth': 10, 'learning_rate': 0.1310044074276173, 'subsample': 0.5214946511323292, 'colsample_bytree': 0.7993912362377076, 'min_child_weight': 7, 'gamma': 0.2394571426076625, 'reg_alpha': 1.1398496336490957e-05, 'reg_lambda': 1.8760583491336693}\n"
     ]
    }
   ],
   "source": [
    "# ================================================\n",
    "# 4. Run Optuna study with MLflow experiment\n",
    "# ================================================\n",
    "# Set experiment name (creates if not exists)\n",
    "mlflow.set_experiment(\"xgboost_optuna_housing\")\n",
    "\n",
    "study = optuna.create_study(direction=\"minimize\")\n",
    "study.optimize(objective, n_trials=15)\n",
    "\n",
    "print(\"Best params:\", study.best_trial.params)\n"
   ]
  },
  {
   "cell_type": "code",
   "execution_count": 8,
   "id": "4e12c2b4",
   "metadata": {},
   "outputs": [
    {
     "name": "stdout",
     "output_type": "stream",
     "text": [
      "Final tuned model performance:\n",
      "MAE: 9563.481884820176\n",
      "RMSE: 20582.64951237764\n",
      "R²: 0.9964387589431593\n"
     ]
    },
    {
     "name": "stderr",
     "output_type": "stream",
     "text": [
      "/Users/riadanas/Desktop/housing regression MLE/.venv/lib/python3.11/site-packages/xgboost/sklearn.py:1028: UserWarning: [14:43:32] WARNING: /Users/runner/work/xgboost/xgboost/src/c_api/c_api.cc:1427: Saving model in the UBJSON format as default.  You can use file extension: `json`, `ubj` or `deprecated` to choose between formats.\n",
      "  self.get_booster().save_model(fname)\n",
      "2025/08/28 14:43:35 WARNING mlflow.utils.environment: Failed to resolve installed pip version. ``pip`` will be added to conda.yaml environment spec without a version specifier.\n",
      "\u001b[31m2025/08/28 14:43:35 WARNING mlflow.models.model: Model logged without a signature and input example. Please set `input_example` parameter when logging the model to auto infer the model signature.\u001b[0m\n"
     ]
    }
   ],
   "source": [
    "# ================================================\n",
    "# 5. Train final model with best params and log to MLflow\n",
    "# ================================================\n",
    "best_params = study.best_trial.params\n",
    "best_model = XGBRegressor(**best_params)\n",
    "best_model.fit(X_train, y_train)\n",
    "\n",
    "y_pred = best_model.predict(X_val)\n",
    "\n",
    "mae = mean_absolute_error(y_val, y_pred)\n",
    "rmse = np.sqrt(mean_squared_error(y_val, y_pred))\n",
    "r2 = r2_score(y_val, y_pred)\n",
    "\n",
    "print(\"Final tuned model performance:\")\n",
    "print(\"MAE:\", mae)\n",
    "print(\"RMSE:\", rmse)\n",
    "print(\"R²:\", r2)\n",
    "\n",
    "# Log best model and metrics to MLflow\n",
    "with mlflow.start_run(run_name=\"best_xgboost_model\"):\n",
    "    mlflow.log_params(best_params)\n",
    "    mlflow.log_metrics({\"rmse\": rmse, \"mae\": mae, \"r2\": r2})\n",
    "    # Save model artifact to MLflow\n",
    "    mlflow.xgboost.log_model(best_model, name=\"model\")\n"
   ]
  },
  {
   "cell_type": "code",
   "execution_count": null,
   "id": "2b64f800",
   "metadata": {},
   "outputs": [],
   "source": []
  }
 ],
 "metadata": {
  "kernelspec": {
   "display_name": "housing-regression-mle",
   "language": "python",
   "name": "python3"
  },
  "language_info": {
   "codemirror_mode": {
    "name": "ipython",
    "version": 3
   },
   "file_extension": ".py",
   "mimetype": "text/x-python",
   "name": "python",
   "nbconvert_exporter": "python",
   "pygments_lexer": "ipython3",
   "version": "3.11.12"
  }
 },
 "nbformat": 4,
 "nbformat_minor": 5
}
