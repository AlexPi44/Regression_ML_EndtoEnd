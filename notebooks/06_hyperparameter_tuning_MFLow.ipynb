{
 "cells": [
  {
   "cell_type": "code",
   "execution_count": 1,
   "id": "89cf7200",
   "metadata": {},
   "outputs": [
    {
     "name": "stdout",
     "output_type": "stream",
     "text": [
      "3.0.4\n"
     ]
    }
   ],
   "source": [
    "import xgboost as xgb\n",
    "print(xgb.__version__)"
   ]
  },
  {
   "cell_type": "code",
   "execution_count": 2,
   "id": "260096cb",
   "metadata": {},
   "outputs": [
    {
     "name": "stdout",
     "output_type": "stream",
     "text": [
      "/Users/riadanas/Desktop/housing regression MLE/.venv/bin/python\n",
      "3.0.4\n",
      "/Users/riadanas/Desktop/housing regression MLE/.venv/lib/python3.11/site-packages/xgboost/__init__.py\n"
     ]
    }
   ],
   "source": [
    "import sys, xgboost as xgb\n",
    "print(sys.executable)        # should point to .../.venv/bin/python\n",
    "print(xgb.__version__)       # should print 3.0.4\n",
    "print(xgb.__file__)          # should live under .../.venv/..."
   ]
  },
  {
   "cell_type": "code",
   "execution_count": 3,
   "id": "478bf394",
   "metadata": {},
   "outputs": [
    {
     "name": "stderr",
     "output_type": "stream",
     "text": [
      "/Users/riadanas/Desktop/housing regression MLE/.venv/lib/python3.11/site-packages/tqdm/auto.py:21: TqdmWarning: IProgress not found. Please update jupyter and ipywidgets. See https://ipywidgets.readthedocs.io/en/stable/user_install.html\n",
      "  from .autonotebook import tqdm as notebook_tqdm\n"
     ]
    }
   ],
   "source": [
    "# ==============================================\n",
    "# 1. Imports\n",
    "# ==============================================\n",
    "import pandas as pd\n",
    "import numpy as np\n",
    "from sklearn.metrics import mean_absolute_error, mean_squared_error, r2_score\n",
    "from xgboost import XGBRegressor\n",
    "import optuna\n",
    "import mlflow\n",
    "import mlflow.xgboost"
   ]
  },
  {
   "cell_type": "code",
   "execution_count": 4,
   "id": "a0bc804c",
   "metadata": {},
   "outputs": [
    {
     "name": "stdout",
     "output_type": "stream",
     "text": [
      "Train shape: (576815, 39)\n",
      "Eval shape: (148448, 39)\n"
     ]
    }
   ],
   "source": [
    "# ==============================================\n",
    "# 2. Load processed datasets\n",
    "# ==============================================\n",
    "train_df = pd.read_csv(\"/Users/riadanas/Desktop/housing regression MLE/data/processed/feature_engineered_train.csv\")\n",
    "eval_df  = pd.read_csv(\"/Users/riadanas/Desktop/housing regression MLE/data/processed/feature_engineered_eval.csv\")\n",
    "\n",
    "\n",
    "# Define target + features\n",
    "target = \"price\"\n",
    "X_train, y_train = train_df.drop(columns=[target]), train_df[target]\n",
    "X_eval, y_eval   = eval_df.drop(columns=[target]), eval_df[target]\n",
    "\n",
    "print(\"Train shape:\", X_train.shape)\n",
    "print(\"Eval shape:\", X_eval.shape)"
   ]
  },
  {
   "cell_type": "code",
   "execution_count": 5,
   "id": "fadb78cd",
   "metadata": {},
   "outputs": [],
   "source": [
    "# ==============================================\n",
    "# 3. Define Optuna objective function with MLflow\n",
    "# ==============================================\n",
    "def objective(trial):\n",
    "    params = {\n",
    "        \"n_estimators\": trial.suggest_int(\"n_estimators\", 200, 1000),\n",
    "        \"max_depth\": trial.suggest_int(\"max_depth\", 3, 10),\n",
    "        \"learning_rate\": trial.suggest_float(\"learning_rate\", 0.01, 0.3, log=True),\n",
    "        \"subsample\": trial.suggest_float(\"subsample\", 0.5, 1.0),\n",
    "        \"colsample_bytree\": trial.suggest_float(\"colsample_bytree\", 0.5, 1.0),\n",
    "        \"min_child_weight\": trial.suggest_int(\"min_child_weight\", 1, 10),\n",
    "        \"gamma\": trial.suggest_float(\"gamma\", 0.0, 5.0),\n",
    "        \"reg_alpha\": trial.suggest_float(\"reg_alpha\", 1e-8, 10.0, log=True),\n",
    "        \"reg_lambda\": trial.suggest_float(\"reg_lambda\", 1e-8, 10.0, log=True),\n",
    "        \"random_state\": 42,\n",
    "        \"n_jobs\": -1,\n",
    "        \"tree_method\": \"hist\",\n",
    "    }\n",
    "\n",
    "    with mlflow.start_run(nested=True):\n",
    "        model = XGBRegressor(**params)\n",
    "        model.fit(X_train, y_train)\n",
    "\n",
    "        y_pred = model.predict(X_eval)\n",
    "        rmse = float(np.sqrt(mean_squared_error(y_eval, y_pred)))\n",
    "        mae = float(mean_absolute_error(y_eval, y_pred))\n",
    "        r2 = float(r2_score(y_eval, y_pred))\n",
    "\n",
    "        # Log hyperparameters + metrics\n",
    "        mlflow.log_params(params)\n",
    "        mlflow.log_metrics({\"rmse\": rmse, \"mae\": mae, \"r2\": r2})\n",
    "\n",
    "    return rmse"
   ]
  },
  {
   "cell_type": "code",
   "execution_count": 6,
   "id": "4ed4b5f5",
   "metadata": {},
   "outputs": [
    {
     "name": "stderr",
     "output_type": "stream",
     "text": [
      "[I 2025-09-01 15:36:14,579] A new study created in memory with name: no-name-f5b3ffa0-6b7d-4219-bd74-4566338187ec\n",
      "[I 2025-09-01 15:36:31,309] Trial 0 finished with value: 71950.57496746138 and parameters: {'n_estimators': 944, 'max_depth': 9, 'learning_rate': 0.16003453198107737, 'subsample': 0.8422380573883641, 'colsample_bytree': 0.5161385418391814, 'min_child_weight': 9, 'gamma': 2.9538531328406576, 'reg_alpha': 1.617607263140248e-08, 'reg_lambda': 0.7918676729679146}. Best is trial 0 with value: 71950.57496746138.\n",
      "[I 2025-09-01 15:36:37,127] Trial 1 finished with value: 73594.79644066688 and parameters: {'n_estimators': 455, 'max_depth': 7, 'learning_rate': 0.07931313314345592, 'subsample': 0.7242773979057299, 'colsample_bytree': 0.9071349492451612, 'min_child_weight': 3, 'gamma': 4.134267433553411, 'reg_alpha': 0.00010166645591781573, 'reg_lambda': 0.0006480122633956456}. Best is trial 0 with value: 71950.57496746138.\n",
      "[I 2025-09-01 15:36:47,062] Trial 2 finished with value: 69731.75667433497 and parameters: {'n_estimators': 764, 'max_depth': 7, 'learning_rate': 0.025121496545168924, 'subsample': 0.6097818678113095, 'colsample_bytree': 0.7687593285502368, 'min_child_weight': 9, 'gamma': 2.755382389592303, 'reg_alpha': 0.00024375027054263855, 'reg_lambda': 1.952870246401013e-05}. Best is trial 2 with value: 69731.75667433497.\n",
      "[I 2025-09-01 15:36:51,672] Trial 3 finished with value: 70636.51602013278 and parameters: {'n_estimators': 276, 'max_depth': 8, 'learning_rate': 0.07400387352884318, 'subsample': 0.8835993236732719, 'colsample_bytree': 0.8612645565270246, 'min_child_weight': 8, 'gamma': 4.958877319889089, 'reg_alpha': 0.4552554940155594, 'reg_lambda': 0.003954782780951003}. Best is trial 2 with value: 69731.75667433497.\n",
      "[I 2025-09-01 15:37:04,737] Trial 4 finished with value: 71843.5307961552 and parameters: {'n_estimators': 583, 'max_depth': 10, 'learning_rate': 0.13304582425072528, 'subsample': 0.7593628751584778, 'colsample_bytree': 0.5699545979358314, 'min_child_weight': 9, 'gamma': 4.355517957274137, 'reg_alpha': 6.121623135792786, 'reg_lambda': 7.293330931926765e-07}. Best is trial 2 with value: 69731.75667433497.\n",
      "[I 2025-09-01 15:37:16,960] Trial 5 finished with value: 69725.1206539873 and parameters: {'n_estimators': 504, 'max_depth': 10, 'learning_rate': 0.019582485225566305, 'subsample': 0.5820741225928057, 'colsample_bytree': 0.7441951900617425, 'min_child_weight': 8, 'gamma': 3.9323382198505197, 'reg_alpha': 0.009074339702843045, 'reg_lambda': 0.00017288191340220137}. Best is trial 5 with value: 69725.1206539873.\n",
      "[I 2025-09-01 15:37:27,147] Trial 6 finished with value: 71196.73030802699 and parameters: {'n_estimators': 635, 'max_depth': 8, 'learning_rate': 0.022383518426482563, 'subsample': 0.7387475015017393, 'colsample_bytree': 0.7880245600730498, 'min_child_weight': 5, 'gamma': 3.779730496092548, 'reg_alpha': 0.0969401171274435, 'reg_lambda': 1.0129744801509765e-06}. Best is trial 5 with value: 69725.1206539873.\n",
      "[I 2025-09-01 15:37:32,022] Trial 7 finished with value: 80598.51069431147 and parameters: {'n_estimators': 678, 'max_depth': 3, 'learning_rate': 0.04162710605294364, 'subsample': 0.6716824097445667, 'colsample_bytree': 0.6077156169903768, 'min_child_weight': 8, 'gamma': 2.4021468150892726, 'reg_alpha': 2.4071734911116034e-07, 'reg_lambda': 1.8176778266739295e-07}. Best is trial 5 with value: 69725.1206539873.\n",
      "[I 2025-09-01 15:37:39,707] Trial 8 finished with value: 73407.41693031018 and parameters: {'n_estimators': 394, 'max_depth': 9, 'learning_rate': 0.026469705057114393, 'subsample': 0.6879694552746736, 'colsample_bytree': 0.9420927326463745, 'min_child_weight': 8, 'gamma': 1.2390268202439376, 'reg_alpha': 5.725522847708634e-07, 'reg_lambda': 2.521738917406638e-07}. Best is trial 5 with value: 69725.1206539873.\n",
      "[I 2025-09-01 15:37:49,905] Trial 9 finished with value: 70656.74425515265 and parameters: {'n_estimators': 435, 'max_depth': 10, 'learning_rate': 0.03669122208381349, 'subsample': 0.7103935476571892, 'colsample_bytree': 0.7648279601148793, 'min_child_weight': 10, 'gamma': 0.8327937067216501, 'reg_alpha': 0.00034886694889719517, 'reg_lambda': 2.9230528898735905e-08}. Best is trial 5 with value: 69725.1206539873.\n",
      "[I 2025-09-01 15:37:52,643] Trial 10 finished with value: 108489.22477365994 and parameters: {'n_estimators': 229, 'max_depth': 4, 'learning_rate': 0.010036041503301805, 'subsample': 0.51271167770602, 'colsample_bytree': 0.6626165758045213, 'min_child_weight': 1, 'gamma': 1.81179662804114, 'reg_alpha': 0.008467605090696086, 'reg_lambda': 0.07278510415809598}. Best is trial 5 with value: 69725.1206539873.\n",
      "[I 2025-09-01 15:38:01,803] Trial 11 finished with value: 76385.32939384588 and parameters: {'n_estimators': 847, 'max_depth': 5, 'learning_rate': 0.013402066210495146, 'subsample': 0.5498761622937369, 'colsample_bytree': 0.6881498210214234, 'min_child_weight': 6, 'gamma': 3.1443749524337417, 'reg_alpha': 0.0001092943964280567, 'reg_lambda': 4.077965113655339e-05}. Best is trial 5 with value: 69725.1206539873.\n",
      "[I 2025-09-01 15:38:10,451] Trial 12 finished with value: 73369.66614147458 and parameters: {'n_estimators': 772, 'max_depth': 6, 'learning_rate': 0.019208938404165047, 'subsample': 0.6065803490573526, 'colsample_bytree': 0.8137530241074767, 'min_child_weight': 6, 'gamma': 0.16283862678649852, 'reg_alpha': 0.003741687232806715, 'reg_lambda': 3.159840510266834e-05}. Best is trial 5 with value: 69725.1206539873.\n",
      "[I 2025-09-01 15:38:16,254] Trial 13 finished with value: 77361.74602068515 and parameters: {'n_estimators': 533, 'max_depth': 6, 'learning_rate': 0.27302210220146955, 'subsample': 0.5895822081103647, 'colsample_bytree': 0.707903608940766, 'min_child_weight': 10, 'gamma': 3.390841035861402, 'reg_alpha': 5.822208499265348e-06, 'reg_lambda': 2.3310065817074977e-05}. Best is trial 5 with value: 69725.1206539873.\n",
      "[I 2025-09-01 15:38:26,188] Trial 14 finished with value: 72155.85564801082 and parameters: {'n_estimators': 754, 'max_depth': 7, 'learning_rate': 0.017140302747824587, 'subsample': 0.6205965735510639, 'colsample_bytree': 0.8565971762615804, 'min_child_weight': 7, 'gamma': 2.10210744428193, 'reg_alpha': 0.004206651151717898, 'reg_lambda': 0.006160155572875648}. Best is trial 5 with value: 69725.1206539873.\n"
     ]
    },
    {
     "name": "stdout",
     "output_type": "stream",
     "text": [
      "Best params: {'n_estimators': 504, 'max_depth': 10, 'learning_rate': 0.019582485225566305, 'subsample': 0.5820741225928057, 'colsample_bytree': 0.7441951900617425, 'min_child_weight': 8, 'gamma': 3.9323382198505197, 'reg_alpha': 0.009074339702843045, 'reg_lambda': 0.00017288191340220137}\n"
     ]
    }
   ],
   "source": [
    "# ==============================================\n",
    "# 4. Run Optuna study with MLflow\n",
    "# ==============================================\n",
    "# Force MLflow to always use the root project mlruns folder\n",
    "mlflow.set_tracking_uri(\"/Users/riadanas/Desktop/housing regression MLE/mlruns\")\n",
    "mlflow.set_experiment(\"xgboost_optuna_housing\")\n",
    "\n",
    "study = optuna.create_study(direction=\"minimize\")\n",
    "study.optimize(objective, n_trials=15)\n",
    "\n",
    "print(\"Best params:\", study.best_trial.params)"
   ]
  },
  {
   "cell_type": "code",
   "execution_count": 7,
   "id": "21b8c223",
   "metadata": {},
   "outputs": [
    {
     "name": "stdout",
     "output_type": "stream",
     "text": [
      "Final tuned model performance:\n",
      "MAE: 31376.607367309574\n",
      "RMSE: 71378.51620394755\n",
      "R²: 0.9606273122493897\n"
     ]
    },
    {
     "name": "stderr",
     "output_type": "stream",
     "text": [
      "/Users/riadanas/Desktop/housing regression MLE/.venv/lib/python3.11/site-packages/xgboost/sklearn.py:1028: UserWarning: [15:38:38] WARNING: /Users/runner/work/xgboost/xgboost/src/c_api/c_api.cc:1427: Saving model in the UBJSON format as default.  You can use file extension: `json`, `ubj` or `deprecated` to choose between formats.\n",
      "  self.get_booster().save_model(fname)\n",
      "2025/09/01 15:38:42 WARNING mlflow.utils.environment: Failed to resolve installed pip version. ``pip`` will be added to conda.yaml environment spec without a version specifier.\n",
      "\u001b[31m2025/09/01 15:38:42 WARNING mlflow.models.model: Model logged without a signature and input example. Please set `input_example` parameter when logging the model to auto infer the model signature.\u001b[0m\n"
     ]
    }
   ],
   "source": [
    "# ==============================================\n",
    "# 5. Train final model with best params and log to MLflow\n",
    "# ==============================================\n",
    "best_params = study.best_trial.params\n",
    "best_model = XGBRegressor(**best_params)\n",
    "best_model.fit(X_train, y_train)\n",
    "\n",
    "y_pred = best_model.predict(X_eval)\n",
    "\n",
    "mae = mean_absolute_error(y_eval, y_pred)\n",
    "rmse = np.sqrt(mean_squared_error(y_eval, y_pred))\n",
    "r2 = r2_score(y_eval, y_pred)\n",
    "\n",
    "print(\"Final tuned model performance:\")\n",
    "print(\"MAE:\", mae)\n",
    "print(\"RMSE:\", rmse)\n",
    "print(\"R²:\", r2)\n",
    "\n",
    "# Log final model\n",
    "with mlflow.start_run(run_name=\"best_xgboost_model\"):\n",
    "    mlflow.log_params(best_params)\n",
    "    mlflow.log_metrics({\"rmse\": rmse, \"mae\": mae, \"r2\": r2})\n",
    "    mlflow.xgboost.log_model(best_model, name=\"model\")"
   ]
  },
  {
   "cell_type": "code",
   "execution_count": null,
   "id": "be1c1be9",
   "metadata": {},
   "outputs": [],
   "source": []
  }
 ],
 "metadata": {
  "kernelspec": {
   "display_name": "housing-regression-mle",
   "language": "python",
   "name": "python3"
  },
  "language_info": {
   "codemirror_mode": {
    "name": "ipython",
    "version": 3
   },
   "file_extension": ".py",
   "mimetype": "text/x-python",
   "name": "python",
   "nbconvert_exporter": "python",
   "pygments_lexer": "ipython3",
   "version": "3.11.12"
  }
 },
 "nbformat": 4,
 "nbformat_minor": 5
}
