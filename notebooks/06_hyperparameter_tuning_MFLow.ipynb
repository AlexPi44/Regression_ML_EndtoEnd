{
 "cells": [
  {
   "cell_type": "code",
   "execution_count": 3,
   "id": "dae76107",
   "metadata": {},
   "outputs": [],
   "source": [
    "# ================================================\n",
    "# 1. Imports\n",
    "# ================================================\n",
    "import pandas as pd\n",
    "import numpy as np\n",
    "from sklearn.model_selection import train_test_split\n",
    "from sklearn.metrics import mean_absolute_error, mean_squared_error, r2_score\n",
    "from xgboost import XGBRegressor\n",
    "import optuna\n",
    "import mlflow\n",
    "import mlflow.xgboost   # integration for XGBoost models"
   ]
  },
  {
   "cell_type": "code",
   "execution_count": 4,
   "id": "0d0f8643",
   "metadata": {},
   "outputs": [
    {
     "name": "stdout",
     "output_type": "stream",
     "text": [
      "Train shape: (587734, 39)\n",
      "Validation shape: (146934, 39)\n"
     ]
    }
   ],
   "source": [
    "# ================================================\n",
    "# 2. Load processed dataset\n",
    "# ================================================\n",
    "df = pd.read_csv(\"/Users/riadanas/Desktop/housing regression MLE/data/processed/train_leakage_safe.csv\")\n",
    "\n",
    "target = \"price\"\n",
    "X = df.drop(columns=[target])\n",
    "y = df[target]\n",
    "\n",
    "# Train/validation split\n",
    "X_train, X_val, y_train, y_val = train_test_split(\n",
    "    X, y, test_size=0.2, random_state=42\n",
    ")\n",
    "\n",
    "print(\"Train shape:\", X_train.shape)\n",
    "print(\"Validation shape:\", X_val.shape)\n"
   ]
  },
  {
   "cell_type": "code",
   "execution_count": 5,
   "id": "4d6258cf",
   "metadata": {},
   "outputs": [],
   "source": [
    "# ================================================\n",
    "# 3. Define Optuna objective function with MLflow\n",
    "# ================================================\n",
    "def objective(trial):\n",
    "    # Define hyperparameter search space\n",
    "    params = {\n",
    "        \"n_estimators\": trial.suggest_int(\"n_estimators\", 200, 1000),\n",
    "        \"max_depth\": trial.suggest_int(\"max_depth\", 3, 10),\n",
    "        \"learning_rate\": trial.suggest_float(\"learning_rate\", 0.01, 0.3, log=True),\n",
    "        \"subsample\": trial.suggest_float(\"subsample\", 0.5, 1.0),\n",
    "        \"colsample_bytree\": trial.suggest_float(\"colsample_bytree\", 0.5, 1.0),\n",
    "        \"min_child_weight\": trial.suggest_int(\"min_child_weight\", 1, 10),\n",
    "        \"gamma\": trial.suggest_float(\"gamma\", 0.0, 5.0),\n",
    "        \"reg_alpha\": trial.suggest_float(\"reg_alpha\", 1e-8, 10.0, log=True),\n",
    "        \"reg_lambda\": trial.suggest_float(\"reg_lambda\", 1e-8, 10.0, log=True),\n",
    "        \"random_state\": 42,\n",
    "        \"n_jobs\": -1,\n",
    "        \"tree_method\": \"hist\",\n",
    "    }\n",
    "\n",
    "    # Start an MLflow run for each Optuna trial\n",
    "    with mlflow.start_run(nested=True):\n",
    "        model = XGBRegressor(**params)\n",
    "        model.fit(X_train, y_train)\n",
    "\n",
    "        # Evaluate on validation set\n",
    "        y_pred = model.predict(X_val)\n",
    "        rmse = float(np.sqrt(mean_squared_error(y_val, y_pred)))\n",
    "        mae = float(mean_absolute_error(y_val, y_pred))\n",
    "        r2 = float(r2_score(y_val, y_pred))\n",
    "\n",
    "        # Log hyperparameters and metrics to MLflow\n",
    "        mlflow.log_params(params)\n",
    "        mlflow.log_metrics({\"rmse\": rmse, \"mae\": mae, \"r2\": r2})\n",
    "\n",
    "    # Optuna will minimize RMSE\n",
    "    return rmse\n"
   ]
  },
  {
   "cell_type": "code",
   "execution_count": 6,
   "id": "89cf7200",
   "metadata": {},
   "outputs": [
    {
     "name": "stdout",
     "output_type": "stream",
     "text": [
      "3.0.4\n"
     ]
    }
   ],
   "source": [
    "import xgboost as xgb\n",
    "print(xgb.__version__)"
   ]
  },
  {
   "cell_type": "code",
   "execution_count": 7,
   "id": "260096cb",
   "metadata": {},
   "outputs": [
    {
     "name": "stdout",
     "output_type": "stream",
     "text": [
      "/Users/riadanas/Desktop/housing regression MLE/.venv/bin/python\n",
      "3.0.4\n",
      "/Users/riadanas/Desktop/housing regression MLE/.venv/lib/python3.11/site-packages/xgboost/__init__.py\n"
     ]
    }
   ],
   "source": [
    "import sys, xgboost as xgb\n",
    "print(sys.executable)        # should point to .../.venv/bin/python\n",
    "print(xgb.__version__)       # should print 3.0.4\n",
    "print(xgb.__file__)          # should live under .../.venv/..."
   ]
  },
  {
   "cell_type": "code",
   "execution_count": 8,
   "id": "8cf63bc4",
   "metadata": {},
   "outputs": [],
   "source": [
    "import mlflow\n",
    "\n",
    "# Force MLflow to use the project root `mlruns/`\n",
    "mlflow.set_tracking_uri(\"/Users/riadanas/Desktop/housing regression MLE/mlruns\")"
   ]
  },
  {
   "cell_type": "code",
   "execution_count": 9,
   "id": "44908915",
   "metadata": {},
   "outputs": [
    {
     "name": "stderr",
     "output_type": "stream",
     "text": [
      "[I 2025-08-28 19:14:26,251] A new study created in memory with name: no-name-05769c6b-2cab-4a43-97b1-e081e30490de\n",
      "[I 2025-08-28 19:14:29,240] Trial 0 finished with value: 41287.29514443926 and parameters: {'n_estimators': 219, 'max_depth': 6, 'learning_rate': 0.07201748936124948, 'subsample': 0.8459895336019783, 'colsample_bytree': 0.5219774833462373, 'min_child_weight': 4, 'gamma': 3.1265709289183485, 'reg_alpha': 2.391601381318461e-07, 'reg_lambda': 0.035920530172863584}. Best is trial 0 with value: 41287.29514443926.\n",
      "[I 2025-08-28 19:14:35,559] Trial 1 finished with value: 46533.73796382394 and parameters: {'n_estimators': 870, 'max_depth': 3, 'learning_rate': 0.11820428340009075, 'subsample': 0.5571236882200832, 'colsample_bytree': 0.6867944231339096, 'min_child_weight': 8, 'gamma': 1.7598340336652174, 'reg_alpha': 3.1767384249582707e-07, 'reg_lambda': 8.410310189175342e-07}. Best is trial 0 with value: 41287.29514443926.\n",
      "[I 2025-08-28 19:14:45,701] Trial 2 finished with value: 38871.944472687705 and parameters: {'n_estimators': 573, 'max_depth': 8, 'learning_rate': 0.010048792455895574, 'subsample': 0.8341373445678966, 'colsample_bytree': 0.5274633131890767, 'min_child_weight': 8, 'gamma': 4.607472293208395, 'reg_alpha': 3.765995997917967e-08, 'reg_lambda': 0.04866247384225606}. Best is trial 2 with value: 38871.944472687705.\n",
      "[I 2025-08-28 19:14:51,056] Trial 3 finished with value: 53750.17327756021 and parameters: {'n_estimators': 306, 'max_depth': 7, 'learning_rate': 0.010934477407606754, 'subsample': 0.6617221804135711, 'colsample_bytree': 0.9820257947750587, 'min_child_weight': 3, 'gamma': 2.467635799130028, 'reg_alpha': 0.02623573715325413, 'reg_lambda': 0.892495691362997}. Best is trial 2 with value: 38871.944472687705.\n",
      "[I 2025-08-28 19:14:55,392] Trial 4 finished with value: 39259.11944828175 and parameters: {'n_estimators': 510, 'max_depth': 4, 'learning_rate': 0.18748026627197933, 'subsample': 0.6166879304522738, 'colsample_bytree': 0.58621667015411, 'min_child_weight': 8, 'gamma': 0.0010575168836035598, 'reg_alpha': 0.11691381909811645, 'reg_lambda': 0.7916702917096639}. Best is trial 2 with value: 38871.944472687705.\n",
      "[I 2025-08-28 19:15:01,744] Trial 5 finished with value: 37894.00729805 and parameters: {'n_estimators': 334, 'max_depth': 8, 'learning_rate': 0.01915338663625052, 'subsample': 0.6018570450323009, 'colsample_bytree': 0.7182455730981936, 'min_child_weight': 5, 'gamma': 4.459995132326135, 'reg_alpha': 2.1304136966881165e-06, 'reg_lambda': 0.00036371386087901314}. Best is trial 5 with value: 37894.00729805.\n",
      "[I 2025-08-28 19:15:16,292] Trial 6 finished with value: 26223.261017695073 and parameters: {'n_estimators': 941, 'max_depth': 8, 'learning_rate': 0.02484870331375371, 'subsample': 0.9579144055505948, 'colsample_bytree': 0.5611138150372719, 'min_child_weight': 3, 'gamma': 2.8327658568440146, 'reg_alpha': 4.6129208211637026e-07, 'reg_lambda': 0.054185025497705194}. Best is trial 6 with value: 26223.261017695073.\n",
      "[I 2025-08-28 19:15:19,882] Trial 7 finished with value: 26689.782530879118 and parameters: {'n_estimators': 202, 'max_depth': 8, 'learning_rate': 0.19482058503898833, 'subsample': 0.7814668937048328, 'colsample_bytree': 0.7417594160994858, 'min_child_weight': 8, 'gamma': 2.210356890260074, 'reg_alpha': 5.068562419495516e-07, 'reg_lambda': 9.685043318661057e-07}. Best is trial 6 with value: 26223.261017695073.\n",
      "[I 2025-08-28 19:15:22,944] Trial 8 finished with value: 37195.10366954384 and parameters: {'n_estimators': 307, 'max_depth': 5, 'learning_rate': 0.17214175276839283, 'subsample': 0.7713038911752429, 'colsample_bytree': 0.973691867551226, 'min_child_weight': 8, 'gamma': 4.843039405682519, 'reg_alpha': 3.24067057313062e-05, 'reg_lambda': 9.96317434592078}. Best is trial 6 with value: 26223.261017695073.\n",
      "[I 2025-08-28 19:15:34,499] Trial 9 finished with value: 40679.25834090091 and parameters: {'n_estimators': 997, 'max_depth': 6, 'learning_rate': 0.014942061304042586, 'subsample': 0.727635934257058, 'colsample_bytree': 0.9599923746179322, 'min_child_weight': 1, 'gamma': 1.8483305957714573, 'reg_alpha': 0.43543090640499216, 'reg_lambda': 2.080904022658174e-05}. Best is trial 6 with value: 26223.261017695073.\n",
      "[I 2025-08-28 19:15:56,238] Trial 10 finished with value: 20666.90017855657 and parameters: {'n_estimators': 769, 'max_depth': 10, 'learning_rate': 0.03552214513442379, 'subsample': 0.9976267934988879, 'colsample_bytree': 0.8659253026059448, 'min_child_weight': 1, 'gamma': 3.4870028272196674, 'reg_alpha': 0.0003366272770036549, 'reg_lambda': 1.1961180004646593e-08}. Best is trial 10 with value: 20666.90017855657.\n",
      "[I 2025-08-28 19:16:18,441] Trial 11 finished with value: 20917.74683171984 and parameters: {'n_estimators': 779, 'max_depth': 10, 'learning_rate': 0.03161804461765772, 'subsample': 0.9934481702370498, 'colsample_bytree': 0.8558098409229575, 'min_child_weight': 1, 'gamma': 3.473344978921361, 'reg_alpha': 0.0006596601302622188, 'reg_lambda': 0.0007004793229162096}. Best is trial 10 with value: 20666.90017855657.\n",
      "[I 2025-08-28 19:16:40,355] Trial 12 finished with value: 20226.8054074768 and parameters: {'n_estimators': 778, 'max_depth': 10, 'learning_rate': 0.037097463818679226, 'subsample': 0.9889512165491607, 'colsample_bytree': 0.870529007968471, 'min_child_weight': 1, 'gamma': 3.6215198382528873, 'reg_alpha': 0.0023224120092031923, 'reg_lambda': 1.323769189047783e-08}. Best is trial 12 with value: 20226.8054074768.\n",
      "[I 2025-08-28 19:17:01,133] Trial 13 finished with value: 19846.372248212643 and parameters: {'n_estimators': 725, 'max_depth': 10, 'learning_rate': 0.04567821111731607, 'subsample': 0.9248284038825905, 'colsample_bytree': 0.8479838492596439, 'min_child_weight': 2, 'gamma': 3.7883783192661196, 'reg_alpha': 0.0018098996514722414, 'reg_lambda': 1.596615669795247e-08}. Best is trial 13 with value: 19846.372248212643.\n",
      "[I 2025-08-28 19:17:20,236] Trial 14 finished with value: 19337.28840396893 and parameters: {'n_estimators': 695, 'max_depth': 10, 'learning_rate': 0.054627170855435926, 'subsample': 0.9011230951792111, 'colsample_bytree': 0.8449319775427244, 'min_child_weight': 3, 'gamma': 3.9531762500780463, 'reg_alpha': 0.005906605469235324, 'reg_lambda': 1.2831534884852641e-08}. Best is trial 14 with value: 19337.28840396893.\n"
     ]
    },
    {
     "name": "stdout",
     "output_type": "stream",
     "text": [
      "Best params: {'n_estimators': 695, 'max_depth': 10, 'learning_rate': 0.054627170855435926, 'subsample': 0.9011230951792111, 'colsample_bytree': 0.8449319775427244, 'min_child_weight': 3, 'gamma': 3.9531762500780463, 'reg_alpha': 0.005906605469235324, 'reg_lambda': 1.2831534884852641e-08}\n"
     ]
    }
   ],
   "source": [
    "# ================================================\n",
    "# 4. Run Optuna study with MLflow experiment\n",
    "# ================================================\n",
    "# Set experiment name (creates if not exists)\n",
    "mlflow.set_experiment(\"xgboost_optuna_housing\")\n",
    "\n",
    "study = optuna.create_study(direction=\"minimize\")\n",
    "study.optimize(objective, n_trials=15)\n",
    "\n",
    "print(\"Best params:\", study.best_trial.params)\n"
   ]
  },
  {
   "cell_type": "code",
   "execution_count": 10,
   "id": "4e12c2b4",
   "metadata": {},
   "outputs": [
    {
     "name": "stdout",
     "output_type": "stream",
     "text": [
      "Final tuned model performance:\n",
      "MAE: 9517.640828780237\n",
      "RMSE: 18997.705524589262\n",
      "R²: 0.9965070007130197\n"
     ]
    },
    {
     "name": "stderr",
     "output_type": "stream",
     "text": [
      "/Users/riadanas/Desktop/housing regression MLE/.venv/lib/python3.11/site-packages/xgboost/sklearn.py:1028: UserWarning: [19:17:38] WARNING: /Users/runner/work/xgboost/xgboost/src/c_api/c_api.cc:1427: Saving model in the UBJSON format as default.  You can use file extension: `json`, `ubj` or `deprecated` to choose between formats.\n",
      "  self.get_booster().save_model(fname)\n",
      "2025/08/28 19:17:42 WARNING mlflow.utils.environment: Failed to resolve installed pip version. ``pip`` will be added to conda.yaml environment spec without a version specifier.\n",
      "\u001b[31m2025/08/28 19:17:42 WARNING mlflow.models.model: Model logged without a signature and input example. Please set `input_example` parameter when logging the model to auto infer the model signature.\u001b[0m\n"
     ]
    }
   ],
   "source": [
    "# ================================================\n",
    "# 5. Train final model with best params and log to MLflow\n",
    "# ================================================\n",
    "best_params = study.best_trial.params\n",
    "best_model = XGBRegressor(**best_params)\n",
    "best_model.fit(X_train, y_train)\n",
    "\n",
    "y_pred = best_model.predict(X_val)\n",
    "\n",
    "mae = mean_absolute_error(y_val, y_pred)\n",
    "rmse = np.sqrt(mean_squared_error(y_val, y_pred))\n",
    "r2 = r2_score(y_val, y_pred)\n",
    "\n",
    "print(\"Final tuned model performance:\")\n",
    "print(\"MAE:\", mae)\n",
    "print(\"RMSE:\", rmse)\n",
    "print(\"R²:\", r2)\n",
    "\n",
    "# Log best model and metrics to MLflow\n",
    "with mlflow.start_run(run_name=\"best_xgboost_model\"):\n",
    "    mlflow.log_params(best_params)\n",
    "    mlflow.log_metrics({\"rmse\": rmse, \"mae\": mae, \"r2\": r2})\n",
    "    # Save model artifact to MLflow\n",
    "    mlflow.xgboost.log_model(best_model, name=\"model\")\n"
   ]
  }
 ],
 "metadata": {
  "kernelspec": {
   "display_name": "housing-regression-mle",
   "language": "python",
   "name": "python3"
  },
  "language_info": {
   "codemirror_mode": {
    "name": "ipython",
    "version": 3
   },
   "file_extension": ".py",
   "mimetype": "text/x-python",
   "name": "python",
   "nbconvert_exporter": "python",
   "pygments_lexer": "ipython3",
   "version": "3.11.12"
  }
 },
 "nbformat": 4,
 "nbformat_minor": 5
}
