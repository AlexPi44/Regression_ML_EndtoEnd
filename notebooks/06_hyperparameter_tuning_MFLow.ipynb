{
 "cells": [
  {
   "cell_type": "code",
   "execution_count": 10,
   "id": "89cf7200",
   "metadata": {},
   "outputs": [
    {
     "name": "stdout",
     "output_type": "stream",
     "text": [
      "3.0.4\n"
     ]
    }
   ],
   "source": [
    "import xgboost as xgb\n",
    "print(xgb.__version__)"
   ]
  },
  {
   "cell_type": "code",
   "execution_count": 11,
   "id": "260096cb",
   "metadata": {},
   "outputs": [
    {
     "name": "stdout",
     "output_type": "stream",
     "text": [
      "/Users/riadanas/Desktop/housing regression MLE/.venv/bin/python\n",
      "3.0.4\n",
      "/Users/riadanas/Desktop/housing regression MLE/.venv/lib/python3.11/site-packages/xgboost/__init__.py\n"
     ]
    }
   ],
   "source": [
    "import sys, xgboost as xgb\n",
    "print(sys.executable)        # should point to .../.venv/bin/python\n",
    "print(xgb.__version__)       # should print 3.0.4\n",
    "print(xgb.__file__)          # should live under .../.venv/..."
   ]
  },
  {
   "cell_type": "code",
   "execution_count": 12,
   "id": "478bf394",
   "metadata": {},
   "outputs": [],
   "source": [
    "# ==============================================\n",
    "# 1. Imports\n",
    "# ==============================================\n",
    "import pandas as pd\n",
    "import numpy as np\n",
    "from sklearn.metrics import mean_absolute_error, mean_squared_error, r2_score\n",
    "from xgboost import XGBRegressor\n",
    "import optuna\n",
    "import mlflow\n",
    "import mlflow.xgboost"
   ]
  },
  {
   "cell_type": "code",
   "execution_count": 13,
   "id": "a0bc804c",
   "metadata": {},
   "outputs": [
    {
     "name": "stdout",
     "output_type": "stream",
     "text": [
      "Train shape: (585244, 39)\n",
      "Eval shape: (149424, 39)\n"
     ]
    }
   ],
   "source": [
    "# ==============================================\n",
    "# 2. Load processed datasets\n",
    "# ==============================================\n",
    "train_df = pd.read_csv(\"/Users/riadanas/Desktop/housing regression MLE/data/processed/feature_engineered_train.csv\")\n",
    "eval_df  = pd.read_csv(\"/Users/riadanas/Desktop/housing regression MLE/data/processed/feature_engineered_eval.csv\")\n",
    "\n",
    "\n",
    "# Define target + features\n",
    "target = \"price\"\n",
    "X_train, y_train = train_df.drop(columns=[target]), train_df[target]\n",
    "X_eval, y_eval   = eval_df.drop(columns=[target]), eval_df[target]\n",
    "\n",
    "print(\"Train shape:\", X_train.shape)\n",
    "print(\"Eval shape:\", X_eval.shape)"
   ]
  },
  {
   "cell_type": "code",
   "execution_count": 14,
   "id": "fadb78cd",
   "metadata": {},
   "outputs": [],
   "source": [
    "# ==============================================\n",
    "# 3. Define Optuna objective function with MLflow\n",
    "# ==============================================\n",
    "def objective(trial):\n",
    "    params = {\n",
    "        \"n_estimators\": trial.suggest_int(\"n_estimators\", 200, 1000),\n",
    "        \"max_depth\": trial.suggest_int(\"max_depth\", 3, 10),\n",
    "        \"learning_rate\": trial.suggest_float(\"learning_rate\", 0.01, 0.3, log=True),\n",
    "        \"subsample\": trial.suggest_float(\"subsample\", 0.5, 1.0),\n",
    "        \"colsample_bytree\": trial.suggest_float(\"colsample_bytree\", 0.5, 1.0),\n",
    "        \"min_child_weight\": trial.suggest_int(\"min_child_weight\", 1, 10),\n",
    "        \"gamma\": trial.suggest_float(\"gamma\", 0.0, 5.0),\n",
    "        \"reg_alpha\": trial.suggest_float(\"reg_alpha\", 1e-8, 10.0, log=True),\n",
    "        \"reg_lambda\": trial.suggest_float(\"reg_lambda\", 1e-8, 10.0, log=True),\n",
    "        \"random_state\": 42,\n",
    "        \"n_jobs\": -1,\n",
    "        \"tree_method\": \"hist\",\n",
    "    }\n",
    "\n",
    "    with mlflow.start_run(nested=True):\n",
    "        model = XGBRegressor(**params)\n",
    "        model.fit(X_train, y_train)\n",
    "\n",
    "        y_pred = model.predict(X_eval)\n",
    "        rmse = float(np.sqrt(mean_squared_error(y_eval, y_pred)))\n",
    "        mae = float(mean_absolute_error(y_eval, y_pred))\n",
    "        r2 = float(r2_score(y_eval, y_pred))\n",
    "\n",
    "        # Log hyperparameters + metrics\n",
    "        mlflow.log_params(params)\n",
    "        mlflow.log_metrics({\"rmse\": rmse, \"mae\": mae, \"r2\": r2})\n",
    "\n",
    "    return rmse"
   ]
  },
  {
   "cell_type": "code",
   "execution_count": 15,
   "id": "4ed4b5f5",
   "metadata": {},
   "outputs": [
    {
     "name": "stderr",
     "output_type": "stream",
     "text": [
      "[I 2025-08-30 10:57:33,987] A new study created in memory with name: no-name-2f0eef7f-cbf8-47e1-be86-7008ebe9e609\n",
      "[I 2025-08-30 10:57:38,628] Trial 0 finished with value: 70146.8484159042 and parameters: {'n_estimators': 288, 'max_depth': 8, 'learning_rate': 0.09363331563780464, 'subsample': 0.5164554883425666, 'colsample_bytree': 0.622497141242759, 'min_child_weight': 8, 'gamma': 2.7167518381831335, 'reg_alpha': 1.8783162156492189e-07, 'reg_lambda': 2.1114076262158873e-06}. Best is trial 0 with value: 70146.8484159042.\n",
      "[I 2025-08-30 10:57:47,565] Trial 1 finished with value: 78339.84815630759 and parameters: {'n_estimators': 933, 'max_depth': 5, 'learning_rate': 0.010525395887875854, 'subsample': 0.9451395386785079, 'colsample_bytree': 0.8649757658432999, 'min_child_weight': 9, 'gamma': 0.4193862975691942, 'reg_alpha': 0.1715414628379197, 'reg_lambda': 2.45067528730062e-07}. Best is trial 0 with value: 70146.8484159042.\n",
      "[I 2025-08-30 10:57:51,985] Trial 2 finished with value: 76210.01155424611 and parameters: {'n_estimators': 557, 'max_depth': 4, 'learning_rate': 0.046241206182473626, 'subsample': 0.9605321730812699, 'colsample_bytree': 0.5375015483860222, 'min_child_weight': 8, 'gamma': 4.604681576728259, 'reg_alpha': 0.004442911058050386, 'reg_lambda': 0.006365784521104714}. Best is trial 0 with value: 70146.8484159042.\n",
      "[I 2025-08-30 10:57:53,930] Trial 3 finished with value: 85941.30198234612 and parameters: {'n_estimators': 202, 'max_depth': 4, 'learning_rate': 0.042990062958690706, 'subsample': 0.8241367792768229, 'colsample_bytree': 0.5597084109565695, 'min_child_weight': 7, 'gamma': 2.3852231346653823, 'reg_alpha': 0.6387641393252894, 'reg_lambda': 8.842253629520905e-06}. Best is trial 0 with value: 70146.8484159042.\n",
      "[I 2025-08-30 10:58:05,065] Trial 4 finished with value: 82345.52099216876 and parameters: {'n_estimators': 480, 'max_depth': 10, 'learning_rate': 0.22535665938753377, 'subsample': 0.905947391150617, 'colsample_bytree': 0.9012459256941535, 'min_child_weight': 7, 'gamma': 0.9937995487781948, 'reg_alpha': 1.0867046061038548, 'reg_lambda': 1.3867109187991426e-06}. Best is trial 0 with value: 70146.8484159042.\n",
      "[I 2025-08-30 10:58:16,707] Trial 5 finished with value: 74686.90664633135 and parameters: {'n_estimators': 1000, 'max_depth': 7, 'learning_rate': 0.20330223657484853, 'subsample': 0.7086282092190925, 'colsample_bytree': 0.5476395375248668, 'min_child_weight': 10, 'gamma': 3.7704517775971045, 'reg_alpha': 0.3642128940274898, 'reg_lambda': 1.4218490526939744e-05}. Best is trial 0 with value: 70146.8484159042.\n",
      "[I 2025-08-30 10:58:25,579] Trial 6 finished with value: 75466.21330509665 and parameters: {'n_estimators': 824, 'max_depth': 6, 'learning_rate': 0.01182248136692985, 'subsample': 0.947589568341541, 'colsample_bytree': 0.8378899775446758, 'min_child_weight': 4, 'gamma': 2.3531078758554, 'reg_alpha': 1.699789799141248e-07, 'reg_lambda': 0.4871860244258781}. Best is trial 0 with value: 70146.8484159042.\n",
      "[I 2025-08-30 10:58:29,548] Trial 7 finished with value: 74644.35265690944 and parameters: {'n_estimators': 510, 'max_depth': 4, 'learning_rate': 0.19110867030998416, 'subsample': 0.6994192240998356, 'colsample_bytree': 0.8546801852219341, 'min_child_weight': 3, 'gamma': 3.2607886954028653, 'reg_alpha': 1.5421964557118844e-08, 'reg_lambda': 4.629777057589123e-06}. Best is trial 0 with value: 70146.8484159042.\n",
      "[I 2025-08-30 10:58:32,980] Trial 8 finished with value: 74593.92505752335 and parameters: {'n_estimators': 265, 'max_depth': 7, 'learning_rate': 0.2027788992084843, 'subsample': 0.5562380153052464, 'colsample_bytree': 0.576964503715065, 'min_child_weight': 8, 'gamma': 4.157217990014234, 'reg_alpha': 8.794563888396116e-08, 'reg_lambda': 4.0998782709079207e-07}. Best is trial 0 with value: 70146.8484159042.\n",
      "[I 2025-08-30 10:58:40,041] Trial 9 finished with value: 71802.9337812921 and parameters: {'n_estimators': 656, 'max_depth': 6, 'learning_rate': 0.13769474077931596, 'subsample': 0.6314293446665444, 'colsample_bytree': 0.7100004488280532, 'min_child_weight': 5, 'gamma': 0.33512200913995427, 'reg_alpha': 0.00030415796093972633, 'reg_lambda': 0.0009648470056030653}. Best is trial 0 with value: 70146.8484159042.\n",
      "[I 2025-08-30 10:58:47,166] Trial 10 finished with value: 70050.08898128239 and parameters: {'n_estimators': 352, 'max_depth': 9, 'learning_rate': 0.08965741427766928, 'subsample': 0.5044884308630853, 'colsample_bytree': 0.6845211350293073, 'min_child_weight': 1, 'gamma': 1.5777909383735702, 'reg_alpha': 5.700889859752827e-06, 'reg_lambda': 3.6122262314823315e-08}. Best is trial 10 with value: 70050.08898128239.\n",
      "[I 2025-08-30 10:58:54,520] Trial 11 finished with value: 70219.47189079743 and parameters: {'n_estimators': 356, 'max_depth': 9, 'learning_rate': 0.08802047388356089, 'subsample': 0.51696817587313, 'colsample_bytree': 0.6867487977185112, 'min_child_weight': 1, 'gamma': 1.6117752681557413, 'reg_alpha': 7.857397421231057e-06, 'reg_lambda': 1.838167331924421e-08}. Best is trial 10 with value: 70050.08898128239.\n",
      "[I 2025-08-30 10:59:03,848] Trial 12 finished with value: 70316.65982256713 and parameters: {'n_estimators': 380, 'max_depth': 9, 'learning_rate': 0.08256254258302308, 'subsample': 0.5928702843360204, 'colsample_bytree': 0.6523684857606825, 'min_child_weight': 1, 'gamma': 1.6314158552902147, 'reg_alpha': 1.8920289779417593e-05, 'reg_lambda': 1.746499906394348e-08}. Best is trial 10 with value: 70050.08898128239.\n",
      "[I 2025-08-30 10:59:10,848] Trial 13 finished with value: 77954.18009499318 and parameters: {'n_estimators': 367, 'max_depth': 8, 'learning_rate': 0.025707096398089487, 'subsample': 0.5111999645634341, 'colsample_bytree': 0.9974185344286259, 'min_child_weight': 3, 'gamma': 3.0822271232128853, 'reg_alpha': 6.148992302661087e-06, 'reg_lambda': 8.289687026274361e-05}. Best is trial 10 with value: 70050.08898128239.\n",
      "[I 2025-08-30 10:59:27,531] Trial 14 finished with value: 72423.6754987582 and parameters: {'n_estimators': 686, 'max_depth': 10, 'learning_rate': 0.09147803938012393, 'subsample': 0.6287831046540389, 'colsample_bytree': 0.7697036198288195, 'min_child_weight': 6, 'gamma': 1.6369620173328479, 'reg_alpha': 6.576768787252655e-07, 'reg_lambda': 6.568460367640766e-08}. Best is trial 10 with value: 70050.08898128239.\n"
     ]
    },
    {
     "name": "stdout",
     "output_type": "stream",
     "text": [
      "Best params: {'n_estimators': 352, 'max_depth': 9, 'learning_rate': 0.08965741427766928, 'subsample': 0.5044884308630853, 'colsample_bytree': 0.6845211350293073, 'min_child_weight': 1, 'gamma': 1.5777909383735702, 'reg_alpha': 5.700889859752827e-06, 'reg_lambda': 3.6122262314823315e-08}\n"
     ]
    }
   ],
   "source": [
    "# ==============================================\n",
    "# 4. Run Optuna study with MLflow\n",
    "# ==============================================\n",
    "# Force MLflow to always use the root project mlruns folder\n",
    "mlflow.set_tracking_uri(\"/Users/riadanas/Desktop/housing regression MLE/mlruns\")\n",
    "mlflow.set_experiment(\"xgboost_optuna_housing\")\n",
    "\n",
    "study = optuna.create_study(direction=\"minimize\")\n",
    "study.optimize(objective, n_trials=15)\n",
    "\n",
    "print(\"Best params:\", study.best_trial.params)"
   ]
  },
  {
   "cell_type": "code",
   "execution_count": 16,
   "id": "21b8c223",
   "metadata": {},
   "outputs": [
    {
     "name": "stdout",
     "output_type": "stream",
     "text": [
      "Final tuned model performance:\n",
      "MAE: 32111.79066601309\n",
      "RMSE: 74805.68751722854\n",
      "R²: 0.9567001901792198\n"
     ]
    },
    {
     "name": "stderr",
     "output_type": "stream",
     "text": [
      "/Users/riadanas/Desktop/housing regression MLE/.venv/lib/python3.11/site-packages/xgboost/sklearn.py:1028: UserWarning: [10:59:35] WARNING: /Users/runner/work/xgboost/xgboost/src/c_api/c_api.cc:1427: Saving model in the UBJSON format as default.  You can use file extension: `json`, `ubj` or `deprecated` to choose between formats.\n",
      "  self.get_booster().save_model(fname)\n",
      "2025/08/30 10:59:37 WARNING mlflow.utils.environment: Failed to resolve installed pip version. ``pip`` will be added to conda.yaml environment spec without a version specifier.\n",
      "\u001b[31m2025/08/30 10:59:37 WARNING mlflow.models.model: Model logged without a signature and input example. Please set `input_example` parameter when logging the model to auto infer the model signature.\u001b[0m\n"
     ]
    }
   ],
   "source": [
    "# ==============================================\n",
    "# 5. Train final model with best params and log to MLflow\n",
    "# ==============================================\n",
    "best_params = study.best_trial.params\n",
    "best_model = XGBRegressor(**best_params)\n",
    "best_model.fit(X_train, y_train)\n",
    "\n",
    "y_pred = best_model.predict(X_eval)\n",
    "\n",
    "mae = mean_absolute_error(y_eval, y_pred)\n",
    "rmse = np.sqrt(mean_squared_error(y_eval, y_pred))\n",
    "r2 = r2_score(y_eval, y_pred)\n",
    "\n",
    "print(\"Final tuned model performance:\")\n",
    "print(\"MAE:\", mae)\n",
    "print(\"RMSE:\", rmse)\n",
    "print(\"R²:\", r2)\n",
    "\n",
    "# Log final model\n",
    "with mlflow.start_run(run_name=\"best_xgboost_model\"):\n",
    "    mlflow.log_params(best_params)\n",
    "    mlflow.log_metrics({\"rmse\": rmse, \"mae\": mae, \"r2\": r2})\n",
    "    mlflow.xgboost.log_model(best_model, name=\"model\")"
   ]
  },
  {
   "cell_type": "code",
   "execution_count": null,
   "id": "be1c1be9",
   "metadata": {},
   "outputs": [],
   "source": []
  }
 ],
 "metadata": {
  "kernelspec": {
   "display_name": "housing-regression-mle",
   "language": "python",
   "name": "python3"
  },
  "language_info": {
   "codemirror_mode": {
    "name": "ipython",
    "version": 3
   },
   "file_extension": ".py",
   "mimetype": "text/x-python",
   "name": "python",
   "nbconvert_exporter": "python",
   "pygments_lexer": "ipython3",
   "version": "3.11.12"
  }
 },
 "nbformat": 4,
 "nbformat_minor": 5
}
