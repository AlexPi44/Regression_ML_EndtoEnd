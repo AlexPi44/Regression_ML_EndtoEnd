{
 "cells": [
  {
   "cell_type": "code",
   "execution_count": 8,
   "id": "14b94cae",
   "metadata": {},
   "outputs": [
    {
     "name": "stdout",
     "output_type": "stream",
     "text": [
      "📦 Creating bucket 'housing-regression-mlmodel'...\n",
      "✅ Bucket created\n",
      "⬆️ Uploading /workspaces/Regression_ML_EndtoEnd/data/processed/feature_engineered_holdout.csv → s3://housing-regression-mlmodel/processed/feature_engineered_holdout.csv\n",
      "⬆️ Uploading /workspaces/Regression_ML_EndtoEnd/data/processed/cleaning_holdout.csv → s3://housing-regression-mlmodel/processed/cleaning_holdout.csv\n",
      "⬆️ Uploading /workspaces/Regression_ML_EndtoEnd/data/processed/feature_engineered_train.csv → s3://housing-regression-mlmodel/processed/feature_engineered_train.csv\n",
      "⬆️ Uploading /workspaces/Regression_ML_EndtoEnd/models/xgb_best_model.pkl → s3://housing-regression-mlmodel/models/xgb_best_model.pkl\n",
      "✅ Upload complete\n"
     ]
    }
   ],
   "source": [
    "import boto3\n",
    "from pathlib import Path\n",
    "from botocore.exceptions import ClientError\n",
    "\n",
    "# ---- Config ----\n",
    "bucket = \"housing-regression-mlmodel\"  # Change this to something unique\n",
    "region = \"eu-west-2\"\n",
    "\n",
    "PROJECT_ROOT = Path.cwd().parent\n",
    "local_data_dir = PROJECT_ROOT / \"data\" / \"processed\"\n",
    "local_model_dir = PROJECT_ROOT / \"models\"\n",
    "\n",
    "s3 = boto3.client(\"s3\", region_name=region)\n",
    "\n",
    "# ---- Create bucket if it doesn't exist ----\n",
    "try:\n",
    "    s3.head_bucket(Bucket=bucket)\n",
    "    print(f\"✅ Bucket '{bucket}' already exists\")\n",
    "except ClientError as e:\n",
    "    error_code = e.response['Error']['Code']\n",
    "    if error_code == '404':\n",
    "        print(f\"📦 Creating bucket '{bucket}'...\")\n",
    "        if region == \"us-east-1\":\n",
    "            s3.create_bucket(Bucket=bucket)\n",
    "        else:\n",
    "            s3.create_bucket(\n",
    "                Bucket=bucket,\n",
    "                CreateBucketConfiguration={'LocationConstraint': region}\n",
    "            )\n",
    "        print(f\"✅ Bucket created\")\n",
    "    else:\n",
    "        print(f\"❌ Error: {e}\")\n",
    "        raise\n",
    "\n",
    "# ---- Helper function ----\n",
    "def upload_file(local_path: Path, s3_key: str):\n",
    "    if not local_path.exists():\n",
    "        print(f\"❌ File not found: {local_path}\")\n",
    "        return\n",
    "    print(f\"⬆️ Uploading {local_path} → s3://{bucket}/{s3_key}\")\n",
    "    s3.upload_file(str(local_path), bucket, s3_key)\n",
    "\n",
    "# ---- Upload files ----\n",
    "upload_file(local_data_dir / \"feature_engineered_holdout.csv\", \"processed/feature_engineered_holdout.csv\")\n",
    "upload_file(local_data_dir / \"cleaning_holdout.csv\", \"processed/cleaning_holdout.csv\")\n",
    "upload_file(local_data_dir / \"feature_engineered_train.csv\", \"processed/feature_engineered_train.csv\")\n",
    "upload_file(local_model_dir / \"xgb_best_model.pkl\", \"models/xgb_best_model.pkl\")\n",
    "\n",
    "print(\"✅ Upload complete\")"
   ]
  },
  {
   "cell_type": "code",
   "execution_count": null,
   "id": "34cabfdd",
   "metadata": {},
   "outputs": [],
   "source": []
  },
  {
   "cell_type": "code",
   "execution_count": null,
   "id": "fda5457e",
   "metadata": {},
   "outputs": [],
   "source": []
  }
 ],
 "metadata": {
  "kernelspec": {
   "display_name": ".venv (3.11.13)",
   "language": "python",
   "name": "python3"
  },
  "language_info": {
   "codemirror_mode": {
    "name": "ipython",
    "version": 3
   },
   "file_extension": ".py",
   "mimetype": "text/x-python",
   "name": "python",
   "nbconvert_exporter": "python",
   "pygments_lexer": "ipython3",
   "version": "3.11.13"
  }
 },
 "nbformat": 4,
 "nbformat_minor": 5
}
